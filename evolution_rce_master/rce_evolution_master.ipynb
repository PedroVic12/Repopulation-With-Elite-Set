{
 "cells": [
  {
   "cell_type": "code",
   "execution_count": 1,
   "metadata": {},
   "outputs": [
    {
     "ename": "KeyError",
     "evalue": "'DELTA'",
     "output_type": "error",
     "traceback": [
      "\u001b[0;31m---------------------------------------------------------------------------\u001b[0m",
      "\u001b[0;31mKeyError\u001b[0m                                  Traceback (most recent call last)",
      "Cell \u001b[0;32mIn[1], line 3\u001b[0m\n\u001b[1;32m      1\u001b[0m \u001b[38;5;28;01mimport\u001b[39;00m \u001b[38;5;21;01mjson\u001b[39;00m\n\u001b[1;32m      2\u001b[0m \u001b[38;5;28;01mfrom\u001b[39;00m \u001b[38;5;21;01msrc\u001b[39;00m\u001b[38;5;21;01m.\u001b[39;00m\u001b[38;5;21;01mmodels\u001b[39;00m\u001b[38;5;21;01m.\u001b[39;00m\u001b[38;5;21;01mAlgEvolution\u001b[39;00m \u001b[38;5;28;01mimport\u001b[39;00m AlgoritimoEvolutivoRCE\n\u001b[0;32m----> 3\u001b[0m \u001b[38;5;28;01mfrom\u001b[39;00m \u001b[38;5;21;01msrc\u001b[39;00m\u001b[38;5;21;01m.\u001b[39;00m\u001b[38;5;21;01mmodels\u001b[39;00m\u001b[38;5;21;01m.\u001b[39;00m\u001b[38;5;21;01mSetup_rce\u001b[39;00m \u001b[38;5;28;01mimport\u001b[39;00m SetupRCE\n\u001b[1;32m      4\u001b[0m \u001b[38;5;28;01mfrom\u001b[39;00m \u001b[38;5;21;01msrc\u001b[39;00m\u001b[38;5;21;01m.\u001b[39;00m\u001b[38;5;21;01mmodels\u001b[39;00m\u001b[38;5;21;01m.\u001b[39;00m\u001b[38;5;21;01mDataExploration\u001b[39;00m \u001b[38;5;28;01mimport\u001b[39;00m Dashboard\n\u001b[1;32m      5\u001b[0m \u001b[38;5;28;01mfrom\u001b[39;00m \u001b[38;5;21;01mpathlib\u001b[39;00m \u001b[38;5;28;01mimport\u001b[39;00m Path\n",
      "File \u001b[0;32m~/Documentos/GitHub/Engenharia-Eletrica-UFF/Iniciação Cientifica - Eng Eletrica UFF/evolution_rce_master/src/models/Setup_rce.py:287\u001b[0m\n\u001b[1;32m    283\u001b[0m     newPop[\u001b[38;5;241m0\u001b[39m] \u001b[38;5;241m=\u001b[39m setup\u001b[38;5;241m.\u001b[39mtoolbox\u001b[38;5;241m.\u001b[39mclone(setup\u001b[38;5;241m.\u001b[39mbestInd[\u001b[38;5;241m0\u001b[39m])\n\u001b[1;32m    284\u001b[0m     \u001b[38;5;28mprint\u001b[39m(\u001b[38;5;124m\"\u001b[39m\u001b[38;5;124mBest Da geração= \u001b[39m\u001b[38;5;124m\"\u001b[39m, newPop[\u001b[38;5;241m0\u001b[39m], newPop[\u001b[38;5;241m0\u001b[39m]\u001b[38;5;241m.\u001b[39mFitness[\u001b[38;5;241m0\u001b[39m])\n\u001b[0;32m--> 287\u001b[0m \u001b[43mmain_setup\u001b[49m\u001b[43m(\u001b[49m\u001b[43m)\u001b[49m\n",
      "File \u001b[0;32m~/Documentos/GitHub/Engenharia-Eletrica-UFF/Iniciação Cientifica - Eng Eletrica UFF/evolution_rce_master/src/models/Setup_rce.py:238\u001b[0m, in \u001b[0;36mmain_setup\u001b[0;34m()\u001b[0m\n\u001b[1;32m    233\u001b[0m \u001b[38;5;28;01mdef\u001b[39;00m \u001b[38;5;21mmain_setup\u001b[39m():\n\u001b[1;32m    234\u001b[0m     \u001b[38;5;66;03m#! Setup\u001b[39;00m\n\u001b[1;32m    235\u001b[0m     params \u001b[38;5;241m=\u001b[39m load_params(\n\u001b[1;32m    236\u001b[0m         \u001b[38;5;124mr\u001b[39m\u001b[38;5;124m\"\u001b[39m\u001b[38;5;124m/home/pedrov/Documentos/GitHub/Engenharia-Eletrica-UFF/Iniciação Cientifica - Eng Eletrica UFF/evolution_rce_master/src/db/parameters.json\u001b[39m\u001b[38;5;124m\"\u001b[39m\n\u001b[1;32m    237\u001b[0m     )\n\u001b[0;32m--> 238\u001b[0m     setup \u001b[38;5;241m=\u001b[39m \u001b[43mSetupRCE\u001b[49m\u001b[43m(\u001b[49m\u001b[43mparams\u001b[49m\u001b[43m)\u001b[49m\n\u001b[1;32m    240\u001b[0m     \u001b[38;5;28;01mdef\u001b[39;00m \u001b[38;5;21mavaliarFitnessIndividuos\u001b[39m(pop):\n\u001b[1;32m    241\u001b[0m \u001b[38;5;250m        \u001b[39m\u001b[38;5;124;03m\"\"\"Avaliar o fitness dos indivíduos da população atual.\"\"\"\u001b[39;00m\n",
      "File \u001b[0;32m~/Documentos/GitHub/Engenharia-Eletrica-UFF/Iniciação Cientifica - Eng Eletrica UFF/evolution_rce_master/src/models/Setup_rce.py:51\u001b[0m, in \u001b[0;36mSetupRCE.__init__\u001b[0;34m(self, params)\u001b[0m\n\u001b[1;32m     43\u001b[0m \u001b[38;5;28mself\u001b[39m\u001b[38;5;241m.\u001b[39mTAXA_GENERATION \u001b[38;5;241m=\u001b[39m params[\u001b[38;5;124m\"\u001b[39m\u001b[38;5;124mRCE_REPOPULATION_GENERATIONS\u001b[39m\u001b[38;5;124m\"\u001b[39m]\n\u001b[1;32m     44\u001b[0m \u001b[38;5;28mself\u001b[39m\u001b[38;5;241m.\u001b[39mCROSSOVER, \u001b[38;5;28mself\u001b[39m\u001b[38;5;241m.\u001b[39mMUTACAO, \u001b[38;5;28mself\u001b[39m\u001b[38;5;241m.\u001b[39mNUM_GENERATIONS, \u001b[38;5;28mself\u001b[39m\u001b[38;5;241m.\u001b[39mPOPULATION_SIZE \u001b[38;5;241m=\u001b[39m (\n\u001b[1;32m     45\u001b[0m     \u001b[38;5;28mself\u001b[39m\u001b[38;5;241m.\u001b[39mCXPB,\n\u001b[1;32m     46\u001b[0m     \u001b[38;5;28mself\u001b[39m\u001b[38;5;241m.\u001b[39mMUTPB,\n\u001b[1;32m     47\u001b[0m     \u001b[38;5;28mself\u001b[39m\u001b[38;5;241m.\u001b[39mNGEN,\n\u001b[1;32m     48\u001b[0m     \u001b[38;5;28mself\u001b[39m\u001b[38;5;241m.\u001b[39mPOP_SIZE,\n\u001b[1;32m     49\u001b[0m )\n\u001b[0;32m---> 51\u001b[0m \u001b[38;5;28mself\u001b[39m\u001b[38;5;241m.\u001b[39mdelta \u001b[38;5;241m=\u001b[39m \u001b[43mparams\u001b[49m\u001b[43m[\u001b[49m\u001b[38;5;124;43m\"\u001b[39;49m\u001b[38;5;124;43mDELTA\u001b[39;49m\u001b[38;5;124;43m\"\u001b[39;49m\u001b[43m]\u001b[49m\n\u001b[1;32m     52\u001b[0m \u001b[38;5;28mself\u001b[39m\u001b[38;5;241m.\u001b[39mrce_evaluations \u001b[38;5;241m=\u001b[39m params[\u001b[38;5;124m\"\u001b[39m\u001b[38;5;124mRCE_REPOPULATION_GENERATIONS\u001b[39m\u001b[38;5;124m\"\u001b[39m]\n\u001b[1;32m     53\u001b[0m \u001b[38;5;28mself\u001b[39m\u001b[38;5;241m.\u001b[39mporcentagem \u001b[38;5;241m=\u001b[39m params[\u001b[38;5;124m\"\u001b[39m\u001b[38;5;124mPORCENTAGEM\u001b[39m\u001b[38;5;124m\"\u001b[39m]\n",
      "\u001b[0;31mKeyError\u001b[0m: 'DELTA'"
     ]
    }
   ],
   "source": [
    "import json\n",
    "from src.models.AlgEvolution import AlgoritimoEvolutivoRCE\n",
    "from src.models.Setup_rce import SetupRCE\n",
    "from src.models.DataExploration import Dashboard\n",
    "from pathlib import Path\n",
    "\n",
    "\n",
    "def load_params(file_path):\n",
    "    with open(file_path, \"r\") as file:\n",
    "        params = json.load(file)\n",
    "    return params\n",
    "\n",
    "\n",
    "def main():\n",
    "    # Setup\n",
    "    params = load_params(\n",
    "        r\"/home/pedrov/Documentos/GitHub/Engenharia-Eletrica-UFF/Iniciação Cientifica - Eng Eletrica UFF/evolution_rce_master/src/db/parameters.json\"\n",
    "    )\n",
    "    setup = SetupRCE(params)\n",
    "\n",
    "\n",
    "    #! Exemplo de uso\n",
    "    tipo = \"float\"  # Pode ser \"int\", \"float\" ou \"binario\"\n",
    "    quantidade_var_decision = 5\n",
    "    limite_var = [-5.12, 5.12]\n",
    "\n",
    "    my_toolbox = setup.configure_deap(tipo, quantidade_var_decision, limite_var)\n",
    "\n",
    "    newPop = my_toolbox.population(n=100)\n",
    "\n",
    "    alg = AlgoritimoEvolutivoRCE(setup)\n",
    "\n",
    "    data_visual = Dashboard()\n",
    "\n",
    "    pop_with_repopulation, logbook_with_repopulation, best_variables = alg.run(\n",
    "        RCE=True,\n",
    "        #fitness_function=rastrigin_decisionVariables,\n",
    "        #decision_variables=(X, y, data_hora, curva, vento),\n",
    "    )\n",
    "\n",
    "    print(\"\\n\\nEvolução concluída  - 100%\")\n",
    "\n",
    "    # Visualização dos resultados\n",
    "    alg.cout(\"VISUALIZANDO OS RESULTADOS\")\n",
    "    data_visual.show_rastrigin_benchmark(logbook_with_repopulation, best_variables)\n",
    "    data_visual.visualize(\n",
    "        logbook_with_repopulation, pop_with_repopulation, repopulation=True\n",
    "    )\n",
    "    data_visual.statistics_per_generation_df(logbook_with_repopulation)\n",
    "\n",
    "\n",
    "if __name__ == \"__main__\":\n",
    "    main()"
   ]
  }
 ],
 "metadata": {
  "kernelspec": {
   "display_name": "Python 3",
   "language": "python",
   "name": "python3"
  },
  "language_info": {
   "codemirror_mode": {
    "name": "ipython",
    "version": 3
   },
   "file_extension": ".py",
   "mimetype": "text/x-python",
   "name": "python",
   "nbconvert_exporter": "python",
   "pygments_lexer": "ipython3",
   "version": "3.12.3"
  }
 },
 "nbformat": 4,
 "nbformat_minor": 2
}
