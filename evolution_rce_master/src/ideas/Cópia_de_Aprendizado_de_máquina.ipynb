{
  "cells": [
    {
      "cell_type": "markdown",
      "metadata": {
        "id": "FYwygrQ9AVeI"
      },
      "source": [
        "# Bibliotecas instaladas"
      ]
    },
    {
      "cell_type": "markdown",
      "metadata": {
        "id": "YmNOk4Ex1oB2"
      },
      "source": [
        "# Média"
      ]
    },
    {
      "cell_type": "code",
      "execution_count": null,
      "metadata": {
        "colab": {
          "base_uri": "https://localhost:8080/"
        },
        "id": "Hp369yQ41jwv",
        "outputId": "316357f4-5264-4480-f91a-ef4bd6f7d93b"
      },
      "outputs": [
        {
          "name": "stdout",
          "output_type": "stream",
          "text": [
            "Resultado da média: 23.333333333333332\n"
          ]
        }
      ],
      "source": [
        "import numpy as np\n",
        "\n",
        "age = [66,2,17,77,8,10,94,4,15,7,7,12,15,1,15]\n",
        "\n",
        "result = np.mean(age)\n",
        "\n",
        "print(f\"Resultado da média: {result}\")"
      ]
    },
    {
      "cell_type": "markdown",
      "metadata": {
        "id": "MzV_hNAo1rGy"
      },
      "source": [
        "# Mediana"
      ]
    },
    {
      "cell_type": "code",
      "execution_count": null,
      "metadata": {
        "colab": {
          "base_uri": "https://localhost:8080/"
        },
        "id": "iz2EqP1N6vT9",
        "outputId": "99a10832-9bbe-4b95-959b-ab52de32ddee"
      },
      "outputs": [
        {
          "name": "stdout",
          "output_type": "stream",
          "text": [
            "Resultado da mediana: 12.0\n"
          ]
        }
      ],
      "source": [
        "import numpy as np\n",
        "\n",
        "age = [66,2,17,77,8,10,94,4,15,7,7,12,15,1,15]\n",
        "\n",
        "result = np.median(age)\n",
        "\n",
        "print(f\"Resultado da mediana: {result}\")"
      ]
    },
    {
      "cell_type": "markdown",
      "metadata": {
        "id": "fjxWdHAV1sgt"
      },
      "source": [
        "# Moda"
      ]
    },
    {
      "cell_type": "code",
      "execution_count": null,
      "metadata": {
        "colab": {
          "base_uri": "https://localhost:8080/"
        },
        "id": "lFmWggQF81XQ",
        "outputId": "09c9c2a5-7ece-4945-de48-98c843897887"
      },
      "outputs": [
        {
          "name": "stdout",
          "output_type": "stream",
          "text": [
            "Resultado da moda: 15\n"
          ]
        }
      ],
      "source": [
        "import numpy as np\n",
        "\n",
        "age = [66,2,17,77,8,10,94,4,15,7,7,12,15,1,15]\n",
        "\n",
        "result = np.argmax(np.bincount(age))\n",
        "\n",
        "print(f\"Resultado da moda: {result}\")"
      ]
    },
    {
      "cell_type": "code",
      "execution_count": null,
      "metadata": {
        "colab": {
          "base_uri": "https://localhost:8080/"
        },
        "id": "NRXkZYNV8gaz",
        "outputId": "59d6848c-e3e4-468b-8b1a-90fe4ba42eb8"
      },
      "outputs": [
        {
          "name": "stdout",
          "output_type": "stream",
          "text": [
            "Retorno da Bibioteca: ModeResult(mode=15, count=3)\n",
            "Resultado da moda: 15\n",
            "Quantas ocorrências?: 3\n"
          ]
        }
      ],
      "source": [
        "from scipy import stats\n",
        "\n",
        "age = [66,2,17,77,8,10,94,4,15,7,7,12,15,1,15]\n",
        "\n",
        "result = stats.mode(age)\n",
        "\n",
        "print(f\"Retorno da Bibioteca: {result}\")\n",
        "print(f\"Resultado da moda: {result[0]}\")\n",
        "print(f\"Quantas ocorrências?: {result[1]}\")"
      ]
    },
    {
      "cell_type": "markdown",
      "metadata": {
        "id": "ou8seIys8VSa"
      },
      "source": [
        "# Desvio Padrão"
      ]
    },
    {
      "cell_type": "code",
      "execution_count": null,
      "metadata": {
        "colab": {
          "base_uri": "https://localhost:8080/"
        },
        "id": "NXtVWKON8Z3X",
        "outputId": "e89f079c-3538-4f24-999a-51f707f38268"
      },
      "outputs": [
        {
          "name": "stdout",
          "output_type": "stream",
          "text": [
            "Resultado do desvio padrão para o dataset [16, 17, 18, 16, 17, 15, 16] é: 0.9035079029052513\n",
            "Resultado do desvio padrão para o dataset [29, 108, 135, 25, 56, 74, 94] é: 37.84501153334721\n"
          ]
        }
      ],
      "source": [
        "import numpy as np\n",
        "\n",
        "age = [16,17,18,16,17,15,16]\n",
        "number = [29,108,135,25,56,74,94]\n",
        "\n",
        "result_age = np.std(age, ddof=1)\n",
        "result_number = np.std(number)\n",
        "\n",
        "print(f\"Resultado do desvio padrão para o dataset {age} é: {result_age}\")\n",
        "print(f\"Resultado do desvio padrão para o dataset {number} é: {result_number}\")"
      ]
    },
    {
      "cell_type": "markdown",
      "metadata": {
        "id": "T9uKh61PIhME"
      },
      "source": [
        "# Variância"
      ]
    },
    {
      "cell_type": "code",
      "execution_count": null,
      "metadata": {
        "colab": {
          "base_uri": "https://localhost:8080/"
        },
        "id": "ClJoIA3pInEY",
        "outputId": "de0b5988-15d7-4811-d9e8-784ef96f35bb"
      },
      "outputs": [
        {
          "name": "stdout",
          "output_type": "stream",
          "text": [
            "Resultado da variância para o dataset [16, 17, 18, 16, 17, 15, 16] é: 0.8163265306122449\n",
            "Resultado da variância para o dataset [29, 108, 135, 25, 56, 74, 94] é: 1432.2448979591834\n"
          ]
        }
      ],
      "source": [
        "import numpy as np\n",
        "\n",
        "age = [16,17,18,16,17,15,16]\n",
        "number = [29,108,135,25,56,74,94]\n",
        "\n",
        "result_age = np.var(age, ddof=1)\n",
        "result_number = np.var(number)\n",
        "\n",
        "print(f\"Resultado da variância para o dataset {age} é: {result_age}\")\n",
        "print(f\"Resultado da variância para o dataset {number} é: {result_number}\")"
      ]
    },
    {
      "cell_type": "markdown",
      "metadata": {
        "id": "LJzvj0ZWIkOg"
      },
      "source": [
        "# Quantis"
      ]
    },
    {
      "cell_type": "markdown",
      "metadata": {
        "id": "qWJBgBBTJBrd"
      },
      "source": [
        "Percentil"
      ]
    },
    {
      "cell_type": "code",
      "execution_count": null,
      "metadata": {
        "colab": {
          "base_uri": "https://localhost:8080/"
        },
        "id": "oiRtizyqJpoq",
        "outputId": "061fa7be-8dac-4a8d-854b-091a0db7c884"
      },
      "outputs": [
        {
          "name": "stdout",
          "output_type": "stream",
          "text": [
            "61.100000000000016\n"
          ]
        }
      ],
      "source": [
        "import numpy as np\n",
        "\n",
        "age = [66,2,17,77,8,10,94,4,15,7,7,12,15,1,15]\n",
        "\n",
        "result = np.percentile(age, 85)\n",
        "\n",
        "print(result)"
      ]
    },
    {
      "cell_type": "markdown",
      "metadata": {
        "id": "5faqHJV3JB8B"
      },
      "source": [
        "Quantil"
      ]
    },
    {
      "cell_type": "code",
      "execution_count": null,
      "metadata": {
        "colab": {
          "base_uri": "https://localhost:8080/"
        },
        "id": "hEdzDjexY1o5",
        "outputId": "1f1d3e77-4b1a-463d-fb5b-d47b82402c89"
      },
      "outputs": [
        {
          "name": "stdout",
          "output_type": "stream",
          "text": [
            "16.0\n"
          ]
        }
      ],
      "source": [
        "import numpy as np\n",
        "\n",
        "age = [66,2,17,77,8,10,94,4,15,7,7,12,15,1,15]\n",
        "\n",
        "result = np.quantile(age, 0.75)\n",
        "\n",
        "print(result)"
      ]
    },
    {
      "cell_type": "markdown",
      "metadata": {
        "id": "uQG3me3kmTfS"
      },
      "source": [
        "### Criar Dataset com Dados Aleatórios"
      ]
    },
    {
      "cell_type": "markdown",
      "metadata": {
        "id": "aa-iKLFfhZ4_"
      },
      "source": [
        "Numpy"
      ]
    },
    {
      "cell_type": "code",
      "execution_count": null,
      "metadata": {
        "colab": {
          "base_uri": "https://localhost:8080/"
        },
        "id": "s1O_4DeAhlgw",
        "outputId": "dea804dc-65a2-4753-af73-b3e97467f992"
      },
      "outputs": [
        {
          "name": "stdout",
          "output_type": "stream",
          "text": [
            "[1.58212918e-01 9.51308821e-02 7.34512351e-01 6.43519079e-02\n",
            " 2.76173101e-01 2.47948334e-01 7.91510871e-01 6.02751692e-02\n",
            " 3.84839212e-01 7.76068720e-01 2.08739232e-01 5.06850953e-01\n",
            " 1.59318392e-01 1.38533146e-01 9.61989305e-01 8.59908417e-01\n",
            " 8.98896414e-01 2.59130089e-01 5.30288194e-02 7.19757899e-01\n",
            " 1.55962647e-01 9.51563823e-01 5.39615069e-01 4.60123146e-01\n",
            " 5.06637716e-01 5.46341451e-01 5.42541270e-01 1.02420089e-01\n",
            " 4.36904732e-02 1.33922355e-01 9.63264803e-01 9.34977350e-01\n",
            " 4.89526592e-01 9.49279365e-01 1.17166627e-01 5.55058170e-01\n",
            " 3.89944453e-01 5.19844816e-01 4.44330782e-01 4.73406464e-02\n",
            " 9.28767212e-01 4.55608423e-01 5.96255475e-01 2.79498795e-04\n",
            " 1.31868998e-02 1.14854517e-01 3.62922703e-01 5.74754993e-01\n",
            " 4.25325765e-01 3.91649501e-01 1.37423268e-01 3.95641571e-01\n",
            " 8.65392656e-01 4.97634311e-01 8.48438815e-01 7.29373965e-01\n",
            " 5.30812915e-01 3.75136060e-01 6.81045975e-01 4.14442184e-01\n",
            " 7.04867996e-01 5.15722863e-01 7.02291263e-01 2.97694464e-01\n",
            " 9.63936368e-01 4.58432069e-01 5.86718194e-01 6.03591025e-01\n",
            " 1.23856465e-01 3.57824322e-01 3.98591164e-01 5.60319502e-01\n",
            " 4.38094954e-01 7.76009339e-01 2.46754572e-01 7.00490111e-01\n",
            " 3.65189485e-01 1.74229922e-01 4.35792674e-01 9.76663628e-01\n",
            " 9.38812272e-01 7.35536161e-01 2.96169773e-01 1.55948246e-01\n",
            " 3.62988801e-01 8.31163258e-01 1.62734520e-01 9.18370481e-01\n",
            " 1.60041125e-01 4.36529290e-01 7.46738643e-01 7.01918946e-01\n",
            " 4.29185346e-02 5.55929937e-01 3.55130347e-01 1.87703019e-02\n",
            " 9.14810080e-01 9.18802510e-01 6.27377023e-01 1.95191319e-01\n",
            " 4.26721465e-01 5.57615999e-01 5.62311293e-01 8.23319338e-01\n",
            " 4.71232218e-01 7.49425487e-01 1.61295058e-01 2.55455208e-01\n",
            " 1.07849307e-01 2.94282365e-01 3.13575633e-01 7.44845869e-01\n",
            " 5.73725455e-01 5.61111418e-01 4.81281720e-01 7.44268867e-01\n",
            " 4.60938545e-01 8.28594359e-01 7.48692615e-01 3.35625911e-01\n",
            " 3.26330202e-02 2.06015523e-01 9.89144011e-01 4.16000704e-01\n",
            " 1.66813904e-02 5.42349669e-01 4.17970346e-01 1.82479655e-01\n",
            " 2.08313204e-01 7.70917602e-01 9.50942837e-01 3.15698970e-01\n",
            " 4.29585763e-01 7.45334250e-01 6.85889981e-01 1.15026576e-01\n",
            " 3.06230190e-01 7.10031512e-01 9.88291403e-01 9.26927559e-01\n",
            " 3.95189692e-01 6.70340197e-01 3.47048450e-01 3.93155231e-01\n",
            " 8.97402872e-01 3.41037316e-01 6.13255520e-01 7.90344952e-01\n",
            " 6.62650708e-01 1.81865913e-01 1.52809575e-02 9.49170634e-01\n",
            " 7.25060073e-01 1.80616097e-01 9.93556484e-01 7.70856522e-01\n",
            " 2.00470456e-01 6.33377294e-01 2.58162867e-01 4.47137588e-01\n",
            " 5.17391490e-01 2.95946695e-01 2.60056765e-01 5.88914267e-01\n",
            " 3.63895346e-01 5.23839063e-01 8.55045868e-01 8.46315976e-01\n",
            " 3.20735067e-01 2.83762674e-01 7.94680303e-01 1.63168000e-01\n",
            " 1.46058315e-01 8.95057480e-01 5.30761872e-01 2.26483983e-02\n",
            " 6.74939318e-01 3.30072565e-01 7.26670243e-01 2.60547464e-02\n",
            " 3.83360513e-01 7.12218347e-01 5.15274983e-01 5.99243051e-02\n",
            " 7.45889649e-01 6.40002338e-01 3.12360783e-01 1.56457077e-01\n",
            " 1.53982485e-01 8.37650658e-01 2.10240423e-01 9.88875148e-01\n",
            " 5.36888377e-01 6.89112211e-02 9.22391113e-01 3.97230496e-02\n",
            " 5.39989686e-01 2.89805258e-01 7.67820485e-01 1.39810068e-01]\n"
          ]
        }
      ],
      "source": [
        "import numpy as np\n",
        "\n",
        "numbers = np.random.uniform(0.0, 1.0, 200)\n",
        "\n",
        "print(numbers)"
      ]
    },
    {
      "cell_type": "markdown",
      "metadata": {
        "id": "tbAD4x5ihaCd"
      },
      "source": [
        "Numpy e Pandas"
      ]
    },
    {
      "cell_type": "code",
      "execution_count": null,
      "metadata": {
        "colab": {
          "base_uri": "https://localhost:8080/"
        },
        "id": "oX-cKCQUjj53",
        "outputId": "880acf2c-2bb4-4799-fb78-0724806124c2"
      },
      "outputs": [
        {
          "name": "stdout",
          "output_type": "stream",
          "text": [
            "    Coluna 1  Coluna 2  Coluna 3\n",
            "0   0.333125  0.332544  0.128020\n",
            "1   0.600068  0.563338  0.377266\n",
            "2   0.998161  0.309329  0.319084\n",
            "3   0.060758  0.679801  0.411870\n",
            "4   0.877949  0.607426  0.617146\n",
            "..       ...       ...       ...\n",
            "95  0.377218  0.572167  0.623623\n",
            "96  0.316967  0.607965  0.966975\n",
            "97  0.496134  0.198039  0.588531\n",
            "98  0.985186  0.073001  0.967994\n",
            "99  0.064306  0.844134  0.418000\n",
            "\n",
            "[100 rows x 3 columns]\n"
          ]
        }
      ],
      "source": [
        "#Exemplo 1\n",
        "import numpy as np\n",
        "import pandas as pd\n",
        "\n",
        "data = np.random.rand(100, 3)\n",
        "df = pd.DataFrame(data, columns=['Coluna 1', 'Coluna 2', 'Coluna 3'])\n",
        "\n",
        "print(df)"
      ]
    },
    {
      "cell_type": "code",
      "execution_count": null,
      "metadata": {
        "colab": {
          "base_uri": "https://localhost:8080/"
        },
        "id": "CstDtg_6pChf",
        "outputId": "2937fb56-575b-4666-bf04-b0ceb413c8dc"
      },
      "outputs": [
        {
          "name": "stdout",
          "output_type": "stream",
          "text": [
            "      Coluna 1    Coluna 2    Coluna 3\n",
            "0   437.951489  391.469653  476.927216\n",
            "1    64.353094  190.924243  305.647941\n",
            "2   292.234746  163.502302  365.401710\n",
            "3   375.007965  107.734711  188.274835\n",
            "4   228.591186  299.394402  299.895934\n",
            "..         ...         ...         ...\n",
            "95  149.200911  466.871555  176.910552\n",
            "96   11.559235  464.916487   39.048810\n",
            "97  283.234166  429.714168  236.831206\n",
            "98  463.713512  292.651754  422.647761\n",
            "99   55.732248  337.302558  114.842125\n",
            "\n",
            "[100 rows x 3 columns]\n"
          ]
        }
      ],
      "source": [
        "#Exemplo 2\n",
        "import numpy as np\n",
        "import pandas as pd\n",
        "\n",
        "data = np.random.rand(100, 3) * (500 - 0) + 0\n",
        "df = pd.DataFrame(data, columns=['Coluna 1', 'Coluna 2', 'Coluna 3'])\n",
        "\n",
        "print(df)"
      ]
    },
    {
      "cell_type": "markdown",
      "metadata": {
        "id": "2jU3wlbb02fW"
      },
      "source": [
        "Salvar os Dados?"
      ]
    },
    {
      "cell_type": "code",
      "execution_count": null,
      "metadata": {
        "colab": {
          "base_uri": "https://localhost:8080/"
        },
        "id": "NOmti6H904uT",
        "outputId": "0472b7e2-ff97-4c4c-bb2c-db2256bda838"
      },
      "outputs": [
        {
          "name": "stdout",
          "output_type": "stream",
          "text": [
            "Dados salvos com sucesso no arquivo dados.csv\n"
          ]
        }
      ],
      "source": [
        "import numpy as np\n",
        "\n",
        "numbers = np.random.uniform(0.0, 45.0, 10000)\n",
        "\n",
        "file_name = \"dados.csv\"\n",
        "\n",
        "np.savetxt(file_name, numbers, delimiter=\",\")\n",
        "\n",
        "print(\"Dados salvos com sucesso no arquivo\", file_name)"
      ]
    },
    {
      "cell_type": "markdown",
      "metadata": {
        "id": "VzEKzjFEmgJL"
      },
      "source": [
        "### Visualizar Dados Aleatórios Criados"
      ]
    },
    {
      "cell_type": "markdown",
      "metadata": {
        "id": "kWfVUZWCwPMP"
      },
      "source": [
        "Histograma"
      ]
    },
    {
      "cell_type": "code",
      "execution_count": null,
      "metadata": {
        "colab": {
          "base_uri": "https://localhost:8080/",
          "height": 430
        },
        "id": "cUCdkuC7wRze",
        "outputId": "a2f1ccf9-9f52-4124-871b-2b81bb1c2c11"
      },
      "outputs": [
        {
          "data": {
            "image/png": "[encoded data removed]",
            "text/plain": [
              "<Figure size 640x480 with 1 Axes>"
            ]
          },
          "metadata": {},
          "output_type": "display_data"
        }
      ],
      "source": [
        "import numpy as np\n",
        "import matplotlib.pyplot as plt\n",
        "\n",
        "numbers = np.random.uniform(0.0, 7.0, 100)\n",
        "\n",
        "plt.hist(numbers)\n",
        "plt.show()"
      ]
    },
    {
      "cell_type": "markdown",
      "metadata": {
        "id": "KhAAUAcdx4k5"
      },
      "source": [
        "Linha"
      ]
    },
    {
      "cell_type": "code",
      "execution_count": null,
      "metadata": {
        "colab": {
          "base_uri": "https://localhost:8080/",
          "height": 430
        },
        "id": "S5CL76Fnx7HM",
        "outputId": "53e0d86c-bada-4755-c190-4e948704f71f"
      },
      "outputs": [
        {
          "data": {
            "image/png": "[encoded data removed]",
            "text/plain": [
              "<Figure size 640x480 with 1 Axes>"
            ]
          },
          "metadata": {},
          "output_type": "display_data"
        }
      ],
      "source": [
        "import numpy as np\n",
        "import matplotlib.pyplot as plt\n",
        "\n",
        "numbers = np.random.uniform(0.0, 7.0, 100)\n",
        "\n",
        "plt.plot(numbers, c=\"yellow\")\n",
        "plt.show()"
      ]
    },
    {
      "cell_type": "code",
      "execution_count": null,
      "metadata": {
        "colab": {
          "base_uri": "https://localhost:8080/"
        },
        "id": "vs8Aa8oyoBNu",
        "outputId": "2e603a30-3db8-4174-b36b-5620758e99c7"
      },
      "outputs": [
        {
          "name": "stdout",
          "output_type": "stream",
          "text": [
            "{'Valor_1': 0.35271668359570074, 'Valor_2': 0.003751278577341255, 'Valor_3': 0.13762820160424194, 'Valor_4': 0.9490336966647949, 'Valor_5': 0.7264180242319055, 'Valor_6': 0.32206700632002316, 'Valor_7': 0.7012921425853623, 'Valor_8': 0.2569535663056868, 'Valor_9': 0.1640953130456555, 'Valor_10': 0.629325547136656}\n"
          ]
        }
      ],
      "source": [
        "import numpy as np\n",
        "\n",
        "numbers = np.random.uniform(0, 1, 10)\n",
        "\n",
        "dictionary = {f'Valor_{i+1}': valor for i, valor in enumerate(numbers)}\n",
        "\n",
        "print(dictionary)"
      ]
    },
    {
      "cell_type": "markdown",
      "metadata": {
        "id": "QelvA6l2-EKR"
      },
      "source": [
        "### Distribuição Estatística"
      ]
    },
    {
      "cell_type": "code",
      "execution_count": null,
      "metadata": {
        "colab": {
          "base_uri": "https://localhost:8080/",
          "height": 430
        },
        "id": "sklIYPt_-HbI",
        "outputId": "c90e79f1-7f35-431a-a334-c199f8138095"
      },
      "outputs": [
        {
          "data": {
            "image/png": "[encoded data removed]",
            "text/plain": [
              "<Figure size 640x480 with 1 Axes>"
            ]
          },
          "metadata": {},
          "output_type": "display_data"
        }
      ],
      "source": [
        "import numpy as np\n",
        "import matplotlib.pyplot as plt\n",
        "\n",
        "number = np.random.uniform(0, 1, 1000)\n",
        "\n",
        "plt.hist(number)\n",
        "plt.show()"
      ]
    },
    {
      "cell_type": "code",
      "execution_count": null,
      "metadata": {
        "colab": {
          "base_uri": "https://localhost:8080/",
          "height": 430
        },
        "id": "hXEA0mWzQyx-",
        "outputId": "0da55faf-872f-41e5-e306-6b6a438dc78d"
      },
      "outputs": [
        {
          "data": {
            "image/png": "[encoded data removed]",
            "text/plain": [
              "<Figure size 640x480 with 1 Axes>"
            ]
          },
          "metadata": {},
          "output_type": "display_data"
        }
      ],
      "source": [
        "import numpy as np\n",
        "import matplotlib.pyplot as plt\n",
        "\n",
        "numbers = np.random.normal(5.0, 1.0, 100000)\n",
        "\n",
        "plt.hist(numbers, 100)\n",
        "plt.show()"
      ]
    },
    {
      "cell_type": "markdown",
      "metadata": {
        "id": "ksn54HXcIrJd"
      },
      "source": [
        "# Regressão Linear"
      ]
    },
    {
      "cell_type": "code",
      "execution_count": null,
      "metadata": {
        "colab": {
          "base_uri": "https://localhost:8080/",
          "height": 430
        },
        "id": "7SzNHopVItSs",
        "outputId": "2fae40f2-0882-4215-bea9-2470e955ae62"
      },
      "outputs": [
        {
          "data": {
            "image/png": "[encoded data removed]",
            "text/plain": [
              "<Figure size 640x480 with 1 Axes>"
            ]
          },
          "metadata": {},
          "output_type": "display_data"
        }
      ],
      "source": [
        "import matplotlib.pyplot as plt\n",
        "from scipy import stats\n",
        "\n",
        "#study = [89,43,36,36,95,10,66,34,38,20,26,29,48,64,6,5,36,66,72,40]\n",
        "#grade = [21,46,3,35,67,95,53,72,58,10,26,34,90,33,38,20,56,2,47,15]\n",
        "\n",
        "study = [15,17,18,17,12,27,12,19,14,21,22,19,16]\n",
        "grade = [69,66,67,68,61,86,63,67,64,98,87,65,66]\n",
        "\n",
        "line = stats.linregress(study, grade)\n",
        "\n",
        "def predict(study):\n",
        "  return line.slope * study + line.intercept\n",
        "\n",
        "model = list(map(predict, study))\n",
        "\n",
        "plt.scatter(study, grade)\n",
        "plt.plot(study, model, c=\"orange\")\n",
        "plt.show()"
      ]
    },
    {
      "cell_type": "code",
      "execution_count": null,
      "metadata": {
        "colab": {
          "base_uri": "https://localhost:8080/"
        },
        "id": "1Frg_5lFqacn",
        "outputId": "d83a431e-567b-4d0e-fe32-1daf301610ef"
      },
      "outputs": [
        {
          "name": "stdout",
          "output_type": "stream",
          "text": [
            "0.757378549051493\n"
          ]
        }
      ],
      "source": [
        "print(line.rvalue)"
      ]
    },
    {
      "cell_type": "code",
      "execution_count": null,
      "metadata": {
        "colab": {
          "base_uri": "https://localhost:8080/"
        },
        "id": "GZgu9Nm9r6U3",
        "outputId": "55faf755-4d53-46d7-a210-4f64e5582b62"
      },
      "outputs": [
        {
          "name": "stdout",
          "output_type": "stream",
          "text": [
            "55.58940397350993\n"
          ]
        }
      ],
      "source": [
        "import matplotlib.pyplot as plt\n",
        "from scipy import stats\n",
        "\n",
        "study = [15,17,18,17,12,27,12,19,14,21,22,19,16]\n",
        "grade = [69,66,67,68,61,86,63,67,64,98,87,65,66]\n",
        "\n",
        "line = stats.linregress(study, grade)\n",
        "\n",
        "def predict(study):\n",
        "  return line.slope * study + line.intercept\n",
        "\n",
        "model = predict(10)\n",
        "\n",
        "print(model)"
      ]
    },
    {
      "cell_type": "markdown",
      "metadata": {
        "id": "nvFK-WVKUXT7"
      },
      "source": [
        "# Regressão Polinomial"
      ]
    },
    {
      "cell_type": "code",
      "execution_count": null,
      "metadata": {
        "colab": {
          "base_uri": "https://localhost:8080/",
          "height": 430
        },
        "id": "cRc9ZUbKUbk5",
        "outputId": "bbde28ba-3796-4dae-bac3-0ea8db897aae"
      },
      "outputs": [
        {
          "data": {
            "image/png": "[encoded data removed]",
            "text/plain": [
              "<Figure size 640x480 with 1 Axes>"
            ]
          },
          "metadata": {},
          "output_type": "display_data"
        }
      ],
      "source": [
        "import numpy as np\n",
        "import matplotlib.pyplot as plt\n",
        "\n",
        "#temperature = [89,43,36,36,95,10,66,34,38,20,26,29,48,64,6,5,36,66,72,40]\n",
        "#resistance = [21,46,3,35,67,95,53,72,58,10,26,34,90,33,38,20,56,2,47,15]\n",
        "\n",
        "temperature = [10,20,30,40,50,60,70,80,90,100,110,120,130,140,150,160,170,180,190,200]\n",
        "resistance = [15,18,22,25,28,27,25,22,20,18,16,15,14,14,15,16,18,20,23,27]\n",
        "\n",
        "line = np.linspace(1,200, 100)\n",
        "\n",
        "predict = np.poly1d(np.polyfit(temperature, resistance, 15))\n",
        "\n",
        "plt.scatter(temperature, resistance)\n",
        "plt.plot(line, predict(line), c=\"orange\")\n",
        "plt.show()"
      ]
    },
    {
      "cell_type": "markdown",
      "metadata": {
        "id": "rys-BrXNj3D2"
      },
      "source": [
        "Cálculo do r²"
      ]
    },
    {
      "cell_type": "code",
      "execution_count": null,
      "metadata": {
        "colab": {
          "base_uri": "https://localhost:8080/"
        },
        "id": "64CNgbHgj7_A",
        "outputId": "f3142caa-9187-45a0-b727-5d346e25f589"
      },
      "outputs": [
        {
          "name": "stdout",
          "output_type": "stream",
          "text": [
            "Coeficiente de Determinação (R²): 0.9095627446503269\n"
          ]
        }
      ],
      "source": [
        "residuals = resistance - predict(temperature)\n",
        "ss_res = np.sum(residuals**2)\n",
        "ss_tot = np.sum((resistance - np.mean(resistance))**2)\n",
        "r_squared = 1 - (ss_res / ss_tot)\n",
        "print(f\"Coeficiente de Determinação (R²): {r_squared}\")"
      ]
    },
    {
      "cell_type": "markdown",
      "metadata": {
        "id": "70e-xhr8j-wB"
      },
      "source": [
        "ou"
      ]
    },
    {
      "cell_type": "code",
      "execution_count": null,
      "metadata": {
        "colab": {
          "base_uri": "https://localhost:8080/"
        },
        "id": "NjlUDwEpkAao",
        "outputId": "f2033e29-c59a-4244-9ad0-ba44a2a98a71"
      },
      "outputs": [
        {
          "name": "stdout",
          "output_type": "stream",
          "text": [
            "0.9095627446503269\n"
          ]
        }
      ],
      "source": [
        "from sklearn.metrics import r2_score\n",
        "print(r2_score(resistance, predict(temperature)))"
      ]
    },
    {
      "cell_type": "code",
      "execution_count": null,
      "metadata": {
        "colab": {
          "base_uri": "https://localhost:8080/"
        },
        "id": "WDu_AU9FlVp4",
        "outputId": "2e933c6c-5f2a-4906-b7ea-123a2bd78ef5"
      },
      "outputs": [
        {
          "name": "stdout",
          "output_type": "stream",
          "text": [
            "14.497862027190692\n"
          ]
        }
      ],
      "source": [
        "import numpy as np\n",
        "import matplotlib.pyplot as plt\n",
        "\n",
        "temperature = [10,20,30,40,50,60,70,80,90,100,110,120,130,140,150,160,170,180,190,200]\n",
        "resistance = [15,18,22,25,28,27,25,22,20,18,16,15,14,14,15,16,18,20,23,27]\n",
        "\n",
        "predict = np.poly1d(np.polyfit(temperature, resistance, 3))\n",
        "\n",
        "model = predict(133)\n",
        "\n",
        "print(model)"
      ]
    },
    {
      "cell_type": "markdown",
      "metadata": {
        "id": "CZzRSnfYoI-E"
      },
      "source": [
        "# Regressão Múltipla"
      ]
    },
    {
      "cell_type": "markdown",
      "metadata": {
        "id": "B0FZYol2jQwV"
      },
      "source": [
        "* CRIM: Taxa de criminalidade per capita por região.\n",
        "* ZN: Proporção de terrenos residenciais divididos em zonas para lotes com mais de 25.000 pés quadrados.\n",
        "* INDUS: Proporção de acres de negócios não comerciais por região.\n",
        "* CHAS: Variável fictícia de Charles River (= 1 se o terreno está na margem do rio; 0 caso contrário).\n",
        "* NOX: Concentração de óxidos nítricos (partes por 10 milhões).\n",
        "* RM: Média de quartos por habitação.\n",
        "* AGE: Proporção de unidades ocupadas pelo proprietário construídas antes de 1940.\n",
        "* DIS: Distância ponderada para cinco centros de emprego em Boston.\n",
        "* RAD: Índice de acessibilidade às rodovias radiais.\n",
        "* TAX: Taxa de imposto sobre propriedades de valor integral por $10.000.\n",
        "* PTRATIO: Proporção aluno-professor por região.\n",
        "* B: 1000*(Bk - 0.63)^2, onde Bk é a proporção de negros por região.\n",
        "* LSTAT: Porcentagem da população de status inferior.\n",
        "* MEDV: Valor médio das casas ocupadas pelos proprietários, em milhares de dólares."
      ]
    },
    {
      "cell_type": "code",
      "execution_count": null,
      "metadata": {
        "colab": {
          "base_uri": "https://localhost:8080/"
        },
        "id": "fZIdCR4sr9Nw",
        "outputId": "4e571419-f6d2-47cf-97fb-0d7c18e0bc18"
      },
      "outputs": [
        {
          "name": "stdout",
          "output_type": "stream",
          "text": [
            "O valor da casa nessas características é de $32.52.\n"
          ]
        }
      ],
      "source": [
        "import pandas as pd\n",
        "from sklearn.datasets import fetch_openml\n",
        "from sklearn.linear_model import LinearRegression\n",
        "\n",
        "# Carregando o conjunto de dados Boston Housing\n",
        "dataset = fetch_openml(name='boston', version=1, parser='auto')\n",
        "\n",
        "# Atributos e variável alvo\n",
        "X = dataset.data  # Atributos\n",
        "y = dataset.target  # Variável alvo (preço das casas)\n",
        "\n",
        "# Criando o modelo de regressão linear\n",
        "regr = LinearRegression()\n",
        "regr.fit(X, y)\n",
        "\n",
        "# Definindo os valores fictícios para previsão\n",
        "my_data = [[0.016185, 0.0, 1.09, 0, 0.229, 3.499, 22.9, 3.0311, 1, 100.0, 9.35, 197.315, 1.47]]\n",
        "\n",
        "# Definindo os nomes das características\n",
        "feature = dataset.feature_names\n",
        "\n",
        "# Criando um DataFrame com os dados fictícios e os nomes das características\n",
        "df = pd.DataFrame(my_data, columns=feature)\n",
        "\n",
        "# Realizando a previsão com os dados fictícios\n",
        "predicted_value = regr.predict(df)\n",
        "print(f\"O valor da casa nessas características é de ${predicted_value[0]:.2f}.\")"
      ]
    },
    {
      "cell_type": "markdown",
      "metadata": {
        "id": "3QPhnL_rfcyV"
      },
      "source": [
        "Coeficiente\n",
        "\n",
        "O coeficiente é um fator que descreve a relação com uma variável desconhecida.\n",
        "\n",
        "Exemplo:\n",
        "* seja x uma variável qualquer,\n",
        "então :\n",
        "* 2x significa x duas vezes.\n",
        "\n",
        "x é a variável desconhecida e o número 2 é o coeficiente.\n",
        "\n",
        "Logo, podemos solicitar o valor do coeficiente de cada atributo em relação a variável resposta.\n",
        "\n",
        "Os resultados obtidos nos diz o que aconteceria se aumentássemos ou diminuíssemos um dos valores independentes.\n",
        "\n",
        "Fórmula:\n",
        "\n",
        "Preço da Casa = (Coeficiente × RM) + Intercepto"
      ]
    },
    {
      "cell_type": "code",
      "execution_count": null,
      "metadata": {
        "colab": {
          "base_uri": "https://localhost:8080/"
        },
        "id": "ePYwKWtfffSm",
        "outputId": "2f6d0f8d-2a6d-4dac-a55d-efa50956dbb6"
      },
      "outputs": [
        {
          "name": "stdout",
          "output_type": "stream",
          "text": [
            "Coeficientes:\n",
            "CRIM: -0.1080113578367983\n",
            "ZN: 0.04642045836688072\n",
            "INDUS: 0.02055862636707091\n",
            "CHAS: 2.6867338193449513\n",
            "NOX: -17.76661122830015\n",
            "RM: 3.8098652068092065\n",
            "AGE: 0.0006922246403473038\n",
            "DIS: -1.4755668456002575\n",
            "RAD: 0.30604947898517637\n",
            "TAX: -0.012334593916574842\n",
            "PTRATIO: -0.9527472317072896\n",
            "B: 0.009311683273793801\n",
            "LSTAT: -0.5247583778554882\n",
            "O Intercepto tem o valor de 36.459488385089955\n"
          ]
        }
      ],
      "source": [
        "# Coeficientes do modelo\n",
        "coef = regr.coef_\n",
        "intercept = regr.intercept_\n",
        "\n",
        "# Mostrando os coeficientes\n",
        "print(\"Coeficientes:\")\n",
        "for name, coef in zip(dataset.feature_names, coef):\n",
        "    print(f\"{name}: {coef}\")\n",
        "\n",
        "print(f\"O Intercepto tem o valor de {intercept}\")"
      ]
    },
    {
      "cell_type": "markdown",
      "metadata": {
        "id": "STvx2YrKPFw7"
      },
      "source": [
        "# Padronização (escala)"
      ]
    },
    {
      "cell_type": "code",
      "execution_count": null,
      "metadata": {
        "colab": {
          "base_uri": "https://localhost:8080/"
        },
        "id": "ujPX0GAqPMBF",
        "outputId": "9562c47e-b7e2-4f58-99e7-02809901cd50"
      },
      "outputs": [
        {
          "name": "stdout",
          "output_type": "stream",
          "text": [
            "      CRIM    ZN  INDUS CHAS    NOX     RM    AGE     DIS RAD    TAX  PTRATIO  \\\n",
            "0  0.00632  18.0   2.31    0  0.538  6.575   65.2  4.0900   1  296.0     15.3   \n",
            "1  0.02731   0.0   7.07    0  0.469  6.421   78.9  4.9671   2  242.0     17.8   \n",
            "2  0.02729   0.0   7.07    0  0.469  7.185   61.1  4.9671   2  242.0     17.8   \n",
            "3  0.03237   0.0   2.18    0  0.458  6.998   45.8  6.0622   3  222.0     18.7   \n",
            "4  0.06905   0.0   2.18    0  0.458  7.147   54.2  6.0622   3  222.0     18.7   \n",
            "5  0.02985   0.0   2.18    0  0.458  6.430   58.7  6.0622   3  222.0     18.7   \n",
            "6  0.08829  12.5   7.87    0  0.524  6.012   66.6  5.5605   5  311.0     15.2   \n",
            "7  0.14455  12.5   7.87    0  0.524  6.172   96.1  5.9505   5  311.0     15.2   \n",
            "8  0.21124  12.5   7.87    0  0.524  5.631  100.0  6.0821   5  311.0     15.2   \n",
            "9  0.17004  12.5   7.87    0  0.524  6.004   85.9  6.5921   5  311.0     15.2   \n",
            "\n",
            "        B  LSTAT  \n",
            "0  396.90   4.98  \n",
            "1  396.90   9.14  \n",
            "2  392.83   4.03  \n",
            "3  394.63   2.94  \n",
            "4  396.90   5.33  \n",
            "5  394.12   5.21  \n",
            "6  395.60  12.43  \n",
            "7  396.90  19.15  \n",
            "8  386.63  29.93  \n",
            "9  386.71  17.10  \n",
            "[[-0.41978194  0.28482986 -1.2879095  -0.27259857 -0.14421743  0.41367189\n",
            "  -0.12001342  0.1402136  -0.98284286 -0.66660821 -1.45900038  0.44105193\n",
            "  -1.0755623 ]\n",
            " [-0.41733926 -0.48772236 -0.59338101 -0.27259857 -0.74026221  0.19427445\n",
            "   0.36716642  0.55715988 -0.8678825  -0.98732948 -0.30309415  0.44105193\n",
            "  -0.49243937]\n",
            " [-0.41734159 -0.48772236 -0.59338101 -0.27259857 -0.74026221  1.28271368\n",
            "  -0.26581176  0.55715988 -0.8678825  -0.98732948 -0.30309415  0.39642699\n",
            "  -1.2087274 ]\n",
            " [-0.41675042 -0.48772236 -1.30687771 -0.27259857 -0.83528384  1.01630251\n",
            "  -0.80988851  1.07773662 -0.75292215 -1.10611514  0.1130321   0.41616284\n",
            "  -1.36151682]\n",
            " [-0.41248185 -0.48772236 -1.30687771 -0.27259857 -0.83528384  1.22857665\n",
            "  -0.51117971  1.07773662 -0.75292215 -1.10611514  0.1130321   0.44105193\n",
            "  -1.02650148]\n",
            " [-0.41704368 -0.48772236 -1.30687771 -0.27259857 -0.83528384  0.20709638\n",
            "  -0.35115713  1.07773662 -0.75292215 -1.10611514  0.1130321   0.41057102\n",
            "  -1.04332233]\n",
            " [-0.41024282  0.04877224 -0.47665354 -0.27259857 -0.26515405 -0.38841095\n",
            "  -0.07022862  0.83924392 -0.52300145 -0.57751897 -1.50523663  0.42679827\n",
            "  -0.03126762]\n",
            " [-0.40369567  0.04877224 -0.47665354 -0.27259857 -0.26515405 -0.16046556\n",
            "   0.97880825  1.02463789 -0.52300145 -0.57751897 -1.50523663  0.44105193\n",
            "   0.91070021]\n",
            " [-0.39593474  0.04877224 -0.47665354 -0.27259857 -0.26515405 -0.9312059\n",
            "   1.11749449  1.08719646 -0.52300145 -0.57751897 -1.50523663  0.32844797\n",
            "   2.42177359]\n",
            " [-0.40072931  0.04877224 -0.47665354 -0.27259857 -0.26515405 -0.39980821\n",
            "   0.61609042  1.32963473 -0.52300145 -0.57751897 -1.50523663  0.32932512\n",
            "   0.62334395]]\n"
          ]
        }
      ],
      "source": [
        "import pandas as pd\n",
        "from sklearn.datasets import fetch_openml\n",
        "from sklearn.preprocessing import StandardScaler\n",
        "\n",
        "# Carregando o conjunto de dados Boston Housing\n",
        "dataset = fetch_openml(name='boston', version=1, parser='auto')\n",
        "\n",
        "# Atributos e variável alvo\n",
        "X = dataset.data  # Atributos\n",
        "\n",
        "# Padronizando os dados\n",
        "scaler = StandardScaler()\n",
        "data_standardized = scaler.fit_transform(X)\n",
        "\n",
        "\n",
        "print(X[:10])\n",
        "print(data_standardized[:10])"
      ]
    },
    {
      "cell_type": "markdown",
      "metadata": {
        "id": "HZqc7CIIXXAJ"
      },
      "source": [
        "# Treino/Teste"
      ]
    },
    {
      "cell_type": "code",
      "execution_count": null,
      "metadata": {
        "colab": {
          "base_uri": "https://localhost:8080/"
        },
        "id": "jcqzIARDFsYv",
        "outputId": "fb3342ae-cf7d-4443-8eec-f06b0351f13d"
      },
      "outputs": [
        {
          "name": "stdout",
          "output_type": "stream",
          "text": [
            "{'data':      sepallength  sepalwidth  petallength  petalwidth\n",
            "0            5.1         3.5          1.4         0.2\n",
            "1            4.9         3.0          1.4         0.2\n",
            "2            4.7         3.2          1.3         0.2\n",
            "3            4.6         3.1          1.5         0.2\n",
            "4            5.0         3.6          1.4         0.2\n",
            "..           ...         ...          ...         ...\n",
            "145          6.7         3.0          5.2         2.3\n",
            "146          6.3         2.5          5.0         1.9\n",
            "147          6.5         3.0          5.2         2.0\n",
            "148          6.2         3.4          5.4         2.3\n",
            "149          5.9         3.0          5.1         1.8\n",
            "\n",
            "[150 rows x 4 columns], 'target': 0         Iris-setosa\n",
            "1         Iris-setosa\n",
            "2         Iris-setosa\n",
            "3         Iris-setosa\n",
            "4         Iris-setosa\n",
            "            ...      \n",
            "145    Iris-virginica\n",
            "146    Iris-virginica\n",
            "147    Iris-virginica\n",
            "148    Iris-virginica\n",
            "149    Iris-virginica\n",
            "Name: class, Length: 150, dtype: category\n",
            "Categories (3, object): ['Iris-setosa', 'Iris-versicolor', 'Iris-virginica'], 'frame':      sepallength  sepalwidth  petallength  petalwidth           class\n",
            "0            5.1         3.5          1.4         0.2     Iris-setosa\n",
            "1            4.9         3.0          1.4         0.2     Iris-setosa\n",
            "2            4.7         3.2          1.3         0.2     Iris-setosa\n",
            "3            4.6         3.1          1.5         0.2     Iris-setosa\n",
            "4            5.0         3.6          1.4         0.2     Iris-setosa\n",
            "..           ...         ...          ...         ...             ...\n",
            "145          6.7         3.0          5.2         2.3  Iris-virginica\n",
            "146          6.3         2.5          5.0         1.9  Iris-virginica\n",
            "147          6.5         3.0          5.2         2.0  Iris-virginica\n",
            "148          6.2         3.4          5.4         2.3  Iris-virginica\n",
            "149          5.9         3.0          5.1         1.8  Iris-virginica\n",
            "\n",
            "[150 rows x 5 columns], 'categories': None, 'feature_names': ['sepallength', 'sepalwidth', 'petallength', 'petalwidth'], 'target_names': ['class'], 'DESCR': \"**Author**: R.A. Fisher  \\n**Source**: [UCI](https://archive.ics.uci.edu/ml/datasets/Iris) - 1936 - Donated by Michael Marshall  \\n**Please cite**:   \\n\\n**Iris Plants Database**  \\nThis is perhaps the best known database to be found in the pattern recognition literature.  Fisher's paper is a classic in the field and is referenced frequently to this day.  (See Duda & Hart, for example.)  The data set contains 3 classes of 50 instances each, where each class refers to a type of iris plant.  One class is     linearly separable from the other 2; the latter are NOT linearly separable from each other.\\n\\nPredicted attribute: class of iris plant.  \\nThis is an exceedingly simple domain.  \\n \\n### Attribute Information:\\n    1. sepal length in cm\\n    2. sepal width in cm\\n    3. petal length in cm\\n    4. petal width in cm\\n    5. class: \\n       -- Iris Setosa\\n       -- Iris Versicolour\\n       -- Iris Virginica\\n\\nDownloaded from openml.org.\", 'details': {'id': '61', 'name': 'iris', 'version': '1', 'description_version': '4', 'format': 'ARFF', 'creator': 'R.A. Fisher', 'collection_date': '1936', 'upload_date': '2014-04-06T23:23:39', 'language': 'English', 'licence': 'Public', 'url': 'https://api.openml.org/data/v1/download/61/iris.arff', 'parquet_url': 'http://openml1.win.tue.nl/dataset61/dataset_61.pq', 'file_id': '61', 'default_target_attribute': 'class', 'version_label': '1', 'citation': 'https://archive.ics.uci.edu/ml/citation_policy.html', 'tag': ['Life Science', 'Machine Learning', 'study_1', 'study_25', 'study_4', 'study_41', 'study_50', 'study_52', 'study_7', 'study_86', 'study_88', 'study_89', 'uci'], 'visibility': 'public', 'original_data_url': 'https://archive.ics.uci.edu/ml/datasets/Iris', 'paper_url': 'http://digital.library.adelaide.edu.au/dspace/handle/2440/15227', 'minio_url': 'http://openml1.win.tue.nl/dataset61/dataset_61.pq', 'status': 'active', 'processing_date': '2020-11-20 19:02:18', 'md5_checksum': 'ad484452702105cbf3d30f8deaba39a9'}, 'url': 'https://www.openml.org/d/61'}\n",
            "Tamanho do conjunto de treino: (120, 4)\n",
            "Tamanho do conjunto de teste: (30, 4)\n"
          ]
        }
      ],
      "source": [
        "import pandas as pd\n",
        "from sklearn.datasets import fetch_openml\n",
        "from sklearn.model_selection import train_test_split\n",
        "\n",
        "# Carregando o conjunto de dados Boston Housing\n",
        "dataset = fetch_openml(name='iris', version=1, parser='auto')\n",
        "print(dataset)\n",
        "\n",
        "# Atributos e variável alvo\n",
        "X = dataset.data  # Atributos\n",
        "y = dataset.target  # Variável alvo (preço das casas)\n",
        "\n",
        "# Dividir os dados em conjuntos de treino e teste (por exemplo, 80% treino, 20% teste)\n",
        "X_train, X_test, y_train, y_test = train_test_split(X, y, test_size=0.2, random_state=3)\n",
        "\n",
        "# Verificar o tamanho dos conjuntos de treino e teste\n",
        "print(f\"Tamanho do conjunto de treino: {X_train.shape}\")\n",
        "print(f\"Tamanho do conjunto de teste: {X_test.shape}\")"
      ]
    },
    {
      "cell_type": "markdown",
      "metadata": {
        "id": "YxaETQKb3ONm"
      },
      "source": [
        "# Árvore de decisão"
      ]
    },
    {
      "cell_type": "code",
      "execution_count": null,
      "metadata": {
        "colab": {
          "base_uri": "https://localhost:8080/",
          "height": 653
        },
        "id": "ZSDSaUApsyvL",
        "outputId": "5192d23c-675a-4af2-cda6-21752fce16a7"
      },
      "outputs": [
        {
          "data": {
            "image/png": "[encoded data removed]",
            "text/plain": [
              "<Figure size 1200x800 with 1 Axes>"
            ]
          },
          "metadata": {},
          "output_type": "display_data"
        }
      ],
      "source": [
        "from sklearn.datasets import load_iris\n",
        "from sklearn.model_selection import train_test_split\n",
        "from sklearn.tree import DecisionTreeClassifier\n",
        "from sklearn import tree\n",
        "import matplotlib.pyplot as plt\n",
        "\n",
        "# Carregar o conjunto de dados Iris\n",
        "iris = load_iris()\n",
        "X = iris.data\n",
        "y = iris.target\n",
        "\n",
        "# Dividir os dados em conjuntos de treino e teste\n",
        "X_train, X_test, y_train, y_test = train_test_split(X, y, test_size=0.2, random_state=3)\n",
        "\n",
        "# Criar o classificador da árvore de decisão\n",
        "model = DecisionTreeClassifier(random_state=3)\n",
        "\n",
        "# Treinar o classificador com os dados de treino\n",
        "model.fit(X_train, y_train)\n",
        "\n",
        "# Visualizar a árvore de decisão\n",
        "plt.figure(figsize=(12, 8))\n",
        "tree.plot_tree(model, feature_names=iris.feature_names, filled=True)\n",
        "plt.show()"
      ]
    },
    {
      "cell_type": "markdown",
      "metadata": {
        "id": "XJ_aq3j9JAhH"
      },
      "source": [
        "Avaliação"
      ]
    },
    {
      "cell_type": "code",
      "execution_count": null,
      "metadata": {
        "colab": {
          "base_uri": "https://localhost:8080/"
        },
        "id": "EFpke_qmJCFS",
        "outputId": "731ab149-0de5-400e-f65d-57f893931892"
      },
      "outputs": [
        {
          "name": "stdout",
          "output_type": "stream",
          "text": [
            "              precision    recall  f1-score   support\n",
            "\n",
            "           0       1.00      1.00      1.00        10\n",
            "           1       1.00      1.00      1.00        10\n",
            "           2       1.00      1.00      1.00        10\n",
            "\n",
            "    accuracy                           1.00        30\n",
            "   macro avg       1.00      1.00      1.00        30\n",
            "weighted avg       1.00      1.00      1.00        30\n",
            "\n",
            "Acurácia da Árvore de Decisão: 1.00\n"
          ]
        }
      ],
      "source": [
        "from sklearn.metrics import accuracy_score, classification_report\n",
        "# Fazer previsões com os dados de teste\n",
        "predictions = model.predict(X_test)\n",
        "\n",
        "# Imprimir relatório de classificação\n",
        "print(classification_report(y_test, predictions))\n",
        "\n",
        "# Avaliar a acurácia das previsões\n",
        "accuracy = accuracy_score(y_test, predictions)\n",
        "print(f'Acurácia da Árvore de Decisão: {accuracy:.2f}')"
      ]
    },
    {
      "cell_type": "code",
      "execution_count": null,
      "metadata": {
        "colab": {
          "base_uri": "https://localhost:8080/"
        },
        "id": "2WBNiRDHO9Wv",
        "outputId": "c85f8e20-bd79-48af-8fd3-d32513a3c1b1"
      },
      "outputs": [
        {
          "name": "stdout",
          "output_type": "stream",
          "text": [
            "Pontuações de validação cruzada: [0.96666667 0.96666667 0.9        1.         1.        ]\n",
            "Acurácia média: 0.9666666666666668\n"
          ]
        }
      ],
      "source": [
        "from sklearn.model_selection import cross_val_score\n",
        "\n",
        "# Executar a validação cruzada\n",
        "scores = cross_val_score(model, X, y, cv=5)  # 5-fold cross-validation\n",
        "\n",
        "# Exibir as pontuações de validação cruzada\n",
        "print(\"Pontuações de validação cruzada:\", scores)\n",
        "print(\"Acurácia média:\", scores.mean())"
      ]
    },
    {
      "cell_type": "markdown",
      "metadata": {
        "id": "Ln2PVm72v5oP"
      },
      "source": [
        "# Matriz de Confusão"
      ]
    },
    {
      "cell_type": "code",
      "execution_count": null,
      "metadata": {
        "colab": {
          "base_uri": "https://localhost:8080/",
          "height": 450
        },
        "id": "WuMC7PQywAvp",
        "outputId": "9ae35eac-b4a8-41ed-c751-04c8397b40f3"
      },
      "outputs": [
        {
          "data": {
            "image/png": "[encoded data removed]",
            "text/plain": [
              "<Figure size 640x480 with 2 Axes>"
            ]
          },
          "metadata": {},
          "output_type": "display_data"
        }
      ],
      "source": [
        "import matplotlib.pyplot as plt\n",
        "import numpy\n",
        "from sklearn import metrics\n",
        "\n",
        "y_true = numpy.random.binomial(1,.9,size = 1000)\n",
        "y_pred = numpy.random.binomial(1,.9,size = 1000)\n",
        "\n",
        "confusion_matrix = metrics.confusion_matrix(y_true, y_pred)\n",
        "\n",
        "display = metrics.ConfusionMatrixDisplay(confusion_matrix = confusion_matrix, display_labels = [0, 1])\n",
        "\n",
        "display.plot()\n",
        "plt.show()"
      ]
    },
    {
      "cell_type": "markdown",
      "metadata": {
        "id": "0AcjGTVsAhc3"
      },
      "source": [
        "### Métricas"
      ]
    },
    {
      "cell_type": "markdown",
      "metadata": {
        "id": "4KYj-wjEAj5X"
      },
      "source": [
        "Acurácia"
      ]
    },
    {
      "cell_type": "code",
      "execution_count": null,
      "metadata": {
        "colab": {
          "base_uri": "https://localhost:8080/"
        },
        "id": "twh2Pi8NAmkj",
        "outputId": "05ce0272-a7c6-40d2-dfc8-3c3a72e03d94"
      },
      "outputs": [
        {
          "name": "stdout",
          "output_type": "stream",
          "text": [
            "0.826\n"
          ]
        }
      ],
      "source": [
        "accuracy = metrics.accuracy_score(y_true, y_pred)\n",
        "print(accuracy)"
      ]
    },
    {
      "cell_type": "markdown",
      "metadata": {
        "id": "tLEhvCRaDVq4"
      },
      "source": [
        "Precisão"
      ]
    },
    {
      "cell_type": "code",
      "execution_count": null,
      "metadata": {
        "colab": {
          "base_uri": "https://localhost:8080/"
        },
        "id": "Apsb_jIbDW9X",
        "outputId": "5b650efb-cfa2-4cd5-e493-10cea3180682"
      },
      "outputs": [
        {
          "name": "stdout",
          "output_type": "stream",
          "text": [
            "0.8970099667774086\n"
          ]
        }
      ],
      "source": [
        "precision = metrics.precision_score(y_true, y_pred)\n",
        "print(precision)"
      ]
    },
    {
      "cell_type": "markdown",
      "metadata": {
        "id": "SPp5OSSUD8nS"
      },
      "source": [
        "Revocação"
      ]
    },
    {
      "cell_type": "code",
      "execution_count": null,
      "metadata": {
        "colab": {
          "base_uri": "https://localhost:8080/"
        },
        "id": "2k-J5jSuEBQc",
        "outputId": "ff3c9a8b-163d-4e8b-99b5-e1a01f562079"
      },
      "outputs": [
        {
          "name": "stdout",
          "output_type": "stream",
          "text": [
            "0.9090909090909091\n"
          ]
        }
      ],
      "source": [
        "recall = metrics.recall_score(y_true, y_pred)\n",
        "print(recall)"
      ]
    },
    {
      "cell_type": "markdown",
      "metadata": {
        "id": "raEAbQyiEVec"
      },
      "source": [
        "Especificidade"
      ]
    },
    {
      "cell_type": "code",
      "execution_count": null,
      "metadata": {
        "colab": {
          "base_uri": "https://localhost:8080/"
        },
        "id": "bNkGptMBElQ8",
        "outputId": "7e358d32-d3e7-4e1c-e3dd-689ca615f41b"
      },
      "outputs": [
        {
          "name": "stdout",
          "output_type": "stream",
          "text": [
            "0.14678899082568808\n"
          ]
        }
      ],
      "source": [
        "specificity = metrics.recall_score(y_true, y_pred, pos_label=0)\n",
        "print(specificity)"
      ]
    },
    {
      "cell_type": "markdown",
      "metadata": {
        "id": "BQH4Ny3zFO8n"
      },
      "source": [
        "Pontuação F"
      ]
    },
    {
      "cell_type": "code",
      "execution_count": null,
      "metadata": {
        "colab": {
          "base_uri": "https://localhost:8080/"
        },
        "id": "oa3Ag5gDFQP4",
        "outputId": "9aeac1b1-0069-4c7b-d896-33d5a81ca006"
      },
      "outputs": [
        {
          "name": "stdout",
          "output_type": "stream",
          "text": [
            "0.903010033444816\n"
          ]
        }
      ],
      "source": [
        "f1_score = metrics.f1_score(y_true, y_pred)\n",
        "print(f1_score)"
      ]
    },
    {
      "cell_type": "markdown",
      "metadata": {
        "id": "8vN_Y78mFd1k"
      },
      "source": [
        "Resultados"
      ]
    },
    {
      "cell_type": "code",
      "execution_count": null,
      "metadata": {
        "colab": {
          "base_uri": "https://localhost:8080/"
        },
        "id": "th4xF0ysFfRO",
        "outputId": "4adddeb8-0c6c-4d55-ad23-eeb62ef9c08d"
      },
      "outputs": [
        {
          "name": "stdout",
          "output_type": "stream",
          "text": [
            "{'Accuracy': 0.826, 'Precision': 0.8970099667774086, 'Recall': 0.9090909090909091, 'Specificity': 0.14678899082568808, 'F1_score': 0.903010033444816}\n"
          ]
        }
      ],
      "source": [
        "print({\"Accuracy\":accuracy,\"Precision\":precision,\"Recall\":recall,\"Specificity\":specificity,\"F1_score\":f1_score})"
      ]
    },
    {
      "cell_type": "markdown",
      "metadata": {
        "id": "DpOq658dz1vE"
      },
      "source": [
        "# Agrupamento hierárquico"
      ]
    },
    {
      "cell_type": "markdown",
      "metadata": {
        "id": "CKUvG_U1EHYn"
      },
      "source": [
        "### Dados"
      ]
    },
    {
      "cell_type": "code",
      "execution_count": null,
      "metadata": {
        "colab": {
          "base_uri": "https://localhost:8080/",
          "height": 430
        },
        "id": "SVPXW4rLEGrg",
        "outputId": "6eb409ff-0eea-46d6-96f9-2dfb3891441b"
      },
      "outputs": [
        {
          "data": {
            "image/png": "[encoded data removed]",
            "text/plain": [
              "<Figure size 640x480 with 1 Axes>"
            ]
          },
          "metadata": {},
          "output_type": "display_data"
        }
      ],
      "source": [
        "import matplotlib.pyplot as plt\n",
        "\n",
        "num_1 = [21, 22, 27, 21, 20, 28, 31, 23, 27, 29]\n",
        "num_2 = [38, 36, 41, 34, 33, 42, 41, 39, 38, 38]\n",
        "\n",
        "plt.scatter(num_1, num_2)\n",
        "plt.show()"
      ]
    },
    {
      "cell_type": "code",
      "execution_count": null,
      "metadata": {
        "colab": {
          "base_uri": "https://localhost:8080/",
          "height": 434
        },
        "id": "Hxa9lwxQz6tx",
        "outputId": "00cbf5c5-7d8c-478d-b16b-f0d872b53f48"
      },
      "outputs": [
        {
          "data": {
            "image/png": "[encoded data removed]",
            "text/plain": [
              "<Figure size 640x480 with 1 Axes>"
            ]
          },
          "metadata": {},
          "output_type": "display_data"
        }
      ],
      "source": [
        "import numpy as np\n",
        "from scipy.cluster.hierarchy import dendrogram, linkage\n",
        "\n",
        "dataset = list(zip(num_1, num_2))\n",
        "\n",
        "clus = linkage(dataset, method='ward', metric='euclidean')\n",
        "dendrogram(clus)\n",
        "\n",
        "plt.show()"
      ]
    },
    {
      "cell_type": "code",
      "execution_count": null,
      "metadata": {
        "colab": {
          "base_uri": "https://localhost:8080/"
        },
        "id": "FVmEFgU1fhuY",
        "outputId": "655d09cc-4291-4459-dfce-6566f4076ca1"
      },
      "outputs": [
        {
          "name": "stdout",
          "output_type": "stream",
          "text": [
            "[(21, 38), (22, 36), (27, 41), (21, 34), (20, 33), (28, 42), (31, 41), (23, 39), (27, 38), (29, 38)]\n"
          ]
        }
      ],
      "source": [
        "print(dataset)"
      ]
    },
    {
      "cell_type": "code",
      "execution_count": null,
      "metadata": {
        "colab": {
          "base_uri": "https://localhost:8080/",
          "height": 430
        },
        "id": "zjajx_vuFQEf",
        "outputId": "d774c6e8-858a-4a51-e19e-e640f72a8773"
      },
      "outputs": [
        {
          "data": {
            "image/png": "[encoded data removed]",
            "text/plain": [
              "<Figure size 640x480 with 1 Axes>"
            ]
          },
          "metadata": {},
          "output_type": "display_data"
        }
      ],
      "source": [
        "from sklearn.cluster import AgglomerativeClustering\n",
        "\n",
        "hierarchical_cluster = AgglomerativeClustering(n_clusters=4, metric='euclidean', linkage='ward')\n",
        "labels = hierarchical_cluster.fit_predict(dataset)\n",
        "\n",
        "plt.scatter(num_1, num_2, c=labels)\n",
        "plt.show()"
      ]
    },
    {
      "cell_type": "code",
      "execution_count": null,
      "metadata": {
        "colab": {
          "base_uri": "https://localhost:8080/"
        },
        "id": "1mZDexjUh-VQ",
        "outputId": "e506a90f-2fa1-4942-8d2b-c02e2848d9ed"
      },
      "outputs": [
        {
          "name": "stdout",
          "output_type": "stream",
          "text": [
            "[1 1 0 2 2 0 0 1 3 3]\n"
          ]
        }
      ],
      "source": [
        "print(labels)"
      ]
    },
    {
      "cell_type": "markdown",
      "metadata": {
        "id": "DYw4X57g7F2g"
      },
      "source": [
        "# Regressão logística"
      ]
    },
    {
      "cell_type": "code",
      "execution_count": null,
      "metadata": {
        "colab": {
          "base_uri": "https://localhost:8080/"
        },
        "id": "NJSfsjaK7IN9",
        "outputId": "e08398b3-ff51-42ef-ae50-4ff8ca29a3d9"
      },
      "outputs": [
        {
          "name": "stdout",
          "output_type": "stream",
          "text": [
            "[0]\n"
          ]
        }
      ],
      "source": [
        "import numpy\n",
        "from sklearn import linear_model\n",
        "\n",
        "X = numpy.array(([2, 1, 3, 5, 2, 8, 7, 6, 4, 5, 1, 9])).reshape(-1,1)\n",
        "y = numpy.array([0, 0, 0, 1, 0, 1, 1, 1, 1, 1, 0, 1])\n",
        "\n",
        "logr = linear_model.LogisticRegression()\n",
        "logr.fit(X,y)\n",
        "\n",
        "predicted = logr.predict(numpy.array([1.5]).reshape(-1,1))\n",
        "print(predicted)"
      ]
    },
    {
      "cell_type": "code",
      "execution_count": null,
      "metadata": {
        "colab": {
          "base_uri": "https://localhost:8080/"
        },
        "id": "QEFGq3eRpBGk",
        "outputId": "a4a3d36a-b6d6-4fe0-a79d-471af8908cc5"
      },
      "outputs": [
        {
          "name": "stdout",
          "output_type": "stream",
          "text": [
            "[[2]\n",
            " [1]\n",
            " [3]\n",
            " [5]\n",
            " [2]\n",
            " [8]\n",
            " [7]\n",
            " [6]\n",
            " [4]\n",
            " [5]\n",
            " [1]\n",
            " [9]] [0 0 0 1 0 1 1 1 1 1 0 1]\n"
          ]
        }
      ],
      "source": [
        "print(X,y)"
      ]
    },
    {
      "cell_type": "markdown",
      "metadata": {
        "id": "EedXVcWDR7H0"
      },
      "source": [
        "### Coeficiente"
      ]
    },
    {
      "cell_type": "markdown",
      "metadata": {
        "id": "TPMSakVvrqLm"
      },
      "source": [
        "Na regressão logística, o coeficiente é a mudança esperada nas probabilidades logarítmicas de ter o resultado por mudança unitária em X"
      ]
    },
    {
      "cell_type": "code",
      "execution_count": null,
      "metadata": {
        "colab": {
          "base_uri": "https://localhost:8080/"
        },
        "id": "mO8W3AA0R-Sz",
        "outputId": "5b88e68d-abda-497b-ad76-525725460367"
      },
      "outputs": [
        {
          "name": "stdout",
          "output_type": "stream",
          "text": [
            "[[3.82871231]]\n"
          ]
        }
      ],
      "source": [
        "log_odds = logr.coef_\n",
        "odds = numpy.exp(log_odds)\n",
        "\n",
        "print(odds)"
      ]
    },
    {
      "cell_type": "markdown",
      "metadata": {
        "id": "RrvgqaIgZj5o"
      },
      "source": [
        "### Probabilidade"
      ]
    },
    {
      "cell_type": "code",
      "execution_count": null,
      "metadata": {
        "colab": {
          "base_uri": "https://localhost:8080/"
        },
        "id": "nnUSHWYaZmp0",
        "outputId": "55da8741-88b7-44ea-8917-962e3b2d564c"
      },
      "outputs": [
        {
          "name": "stdout",
          "output_type": "stream",
          "text": [
            "[[0.11546705]\n",
            " [0.0329709 ]\n",
            " [0.33324471]\n",
            " [0.87990291]\n",
            " [0.11546705]\n",
            " [0.99757403]\n",
            " [0.99077498]\n",
            " [0.96557829]\n",
            " [0.65678114]\n",
            " [0.87990291]\n",
            " [0.0329709 ]\n",
            " [0.99936524]]\n"
          ]
        }
      ],
      "source": [
        "def prob(logr,x):\n",
        "  log_odds = logr.coef_ * x + logr.intercept_\n",
        "  odds = numpy.exp(log_odds)\n",
        "  probability = odds / (1 + odds)\n",
        "  return(probability)\n",
        "\n",
        "result = prob(logr, X)\n",
        "print(result)"
      ]
    },
    {
      "cell_type": "code",
      "execution_count": null,
      "metadata": {
        "colab": {
          "base_uri": "https://localhost:8080/"
        },
        "id": "h5End9skekMc",
        "outputId": "942a904b-4c39-4ef3-805f-10561c6e55b6"
      },
      "outputs": [
        {
          "name": "stdout",
          "output_type": "stream",
          "text": [
            "[([2], [0.11546704888213051]), ([1], [0.03297090415020622]), ([3], [0.3332447052018416]), ([5], [0.8799029061383211]), ([2], [0.11546704888213051]), ([8], [0.997574034172579]), ([7], [0.9907749801760858]), ([6], [0.965578285186334]), ([4], [0.6567811350546244]), ([5], [0.8799029061383211]), ([1], [0.03297090415020622]), ([9], [0.9993652378143522])]\n"
          ]
        }
      ],
      "source": [
        "combination = list(zip(X.tolist(), result.tolist()))\n",
        "\n",
        "print(combination)"
      ]
    },
    {
      "cell_type": "markdown",
      "metadata": {
        "id": "WWA0tegr-ATZ"
      },
      "source": [
        "# Pesquisa em Grade"
      ]
    },
    {
      "cell_type": "markdown",
      "metadata": {
        "id": "K47eKR0NAaZK"
      },
      "source": [
        "Verificar resultado com o valor padrão do parâmetro"
      ]
    },
    {
      "cell_type": "code",
      "execution_count": null,
      "metadata": {
        "id": "RwVUESoe-HIY"
      },
      "outputs": [],
      "source": [
        "from sklearn.model_selection import train_test_split\n",
        "from sklearn.linear_model import LogisticRegression\n",
        "from sklearn import datasets\n",
        "\n",
        "wine = datasets.load_wine()\n",
        "\n",
        "#print(wine.DESCR)"
      ]
    },
    {
      "cell_type": "code",
      "execution_count": null,
      "metadata": {
        "id": "jM1lnwcD-4M_"
      },
      "outputs": [],
      "source": [
        "X = wine.data\n",
        "y = wine.target"
      ]
    },
    {
      "cell_type": "code",
      "execution_count": null,
      "metadata": {
        "id": "xSm2o9nl_tOH"
      },
      "outputs": [],
      "source": [
        "model = LogisticRegression(max_iter = 5000)"
      ]
    },
    {
      "cell_type": "code",
      "execution_count": null,
      "metadata": {
        "colab": {
          "base_uri": "https://localhost:8080/"
        },
        "id": "WnQbUJwv_xxB",
        "outputId": "8056d532-fb58-4329-a36d-53a766081f0a"
      },
      "outputs": [
        {
          "name": "stdout",
          "output_type": "stream",
          "text": [
            "LogisticRegression(max_iter=5000)\n"
          ]
        }
      ],
      "source": [
        "print(model.fit(X,y))"
      ]
    },
    {
      "cell_type": "code",
      "execution_count": null,
      "metadata": {
        "colab": {
          "base_uri": "https://localhost:8080/"
        },
        "id": "7LRrBSLb_yPj",
        "outputId": "6f677414-480b-4cd3-e63e-99681b4e1453"
      },
      "outputs": [
        {
          "name": "stdout",
          "output_type": "stream",
          "text": [
            "0.9943820224719101\n"
          ]
        }
      ],
      "source": [
        "print(model.score(X,y))"
      ]
    },
    {
      "cell_type": "markdown",
      "metadata": {
        "id": "OAFqynBPAOJM"
      },
      "source": [
        "### Aplicar Pesquisa em Grade"
      ]
    },
    {
      "cell_type": "code",
      "execution_count": null,
      "metadata": {
        "colab": {
          "base_uri": "https://localhost:8080/"
        },
        "id": "Um679RktAQcc",
        "outputId": "43342d2a-ddd2-4e5e-afc6-599e76d62836"
      },
      "outputs": [
        {
          "name": "stdout",
          "output_type": "stream",
          "text": [
            "[0.9775280898876404, 0.9831460674157303, 0.9943820224719101, 0.9943820224719101, 1.0, 1.0, 1.0, 1.0]\n"
          ]
        }
      ],
      "source": [
        "C = [0.25, 0.5, 0.75, 1, 1.25, 1.5, 1.75, 2]\n",
        "\n",
        "scores = []\n",
        "\n",
        "for choice in C:\n",
        "  model.set_params(C=choice)\n",
        "  model.fit(X, y)\n",
        "  scores.append(model.score(X, y))\n",
        "\n",
        "print(scores)"
      ]
    },
    {
      "cell_type": "markdown",
      "metadata": {
        "id": "ydcq4bW6Cw_K"
      },
      "source": [
        "# Dados categóricos"
      ]
    },
    {
      "cell_type": "markdown",
      "metadata": {
        "id": "YJCV0sRiQJ1Y"
      },
      "source": [
        "Observação: Tenha o arquivo bank-full.csv no /content/"
      ]
    },
    {
      "cell_type": "code",
      "execution_count": null,
      "metadata": {
        "colab": {
          "base_uri": "https://localhost:8080/",
          "height": 206
        },
        "id": "jStQIN0fLmwc",
        "outputId": "d225f34f-f14e-4e40-bfa0-4617ca0e983c"
      },
      "outputs": [
        {
          "data": {
            "application/vnd.google.colaboratory.intrinsic+json": {
              "summary": "{\n  \"name\": \"display(bank\",\n  \"rows\": 5,\n  \"fields\": [\n    {\n      \"column\": \"age\",\n      \"properties\": {\n        \"dtype\": \"number\",\n        \"std\": 10,\n        \"min\": 33,\n        \"max\": 58,\n        \"num_unique_values\": 4,\n        \"samples\": [\n          44,\n          47,\n          58\n        ],\n        \"semantic_type\": \"\",\n        \"description\": \"\"\n      }\n    },\n    {\n      \"column\": \"job\",\n      \"properties\": {\n        \"dtype\": \"string\",\n        \"num_unique_values\": 5,\n        \"samples\": [\n          \"technician\",\n          \"unknown\",\n          \"entrepreneur\"\n        ],\n        \"semantic_type\": \"\",\n        \"description\": \"\"\n      }\n    },\n    {\n      \"column\": \"marital\",\n      \"properties\": {\n        \"dtype\": \"category\",\n        \"num_unique_values\": 2,\n        \"samples\": [\n          \"single\",\n          \"married\"\n        ],\n        \"semantic_type\": \"\",\n        \"description\": \"\"\n      }\n    },\n    {\n      \"column\": \"education\",\n      \"properties\": {\n        \"dtype\": \"string\",\n        \"num_unique_values\": 3,\n        \"samples\": [\n          \"tertiary\",\n          \"secondary\"\n        ],\n        \"semantic_type\": \"\",\n        \"description\": \"\"\n      }\n    },\n    {\n      \"column\": \"default\",\n      \"properties\": {\n        \"dtype\": \"category\",\n        \"num_unique_values\": 1,\n        \"samples\": [\n          \"no\"\n        ],\n        \"semantic_type\": \"\",\n        \"description\": \"\"\n      }\n    },\n    {\n      \"column\": \"balance\",\n      \"properties\": {\n        \"dtype\": \"number\",\n        \"std\": 1018,\n        \"min\": 1,\n        \"max\": 2143,\n        \"num_unique_values\": 5,\n        \"samples\": [\n          29\n        ],\n        \"semantic_type\": \"\",\n        \"description\": \"\"\n      }\n    },\n    {\n      \"column\": \"housing\",\n      \"properties\": {\n        \"dtype\": \"category\",\n        \"num_unique_values\": 2,\n        \"samples\": [\n          \"no\"\n        ],\n        \"semantic_type\": \"\",\n        \"description\": \"\"\n      }\n    },\n    {\n      \"column\": \"loan\",\n      \"properties\": {\n        \"dtype\": \"category\",\n        \"num_unique_values\": 2,\n        \"samples\": [\n          \"yes\"\n        ],\n        \"semantic_type\": \"\",\n        \"description\": \"\"\n      }\n    },\n    {\n      \"column\": \"contact\",\n      \"properties\": {\n        \"dtype\": \"category\",\n        \"num_unique_values\": 1,\n        \"samples\": [\n          \"unknown\"\n        ],\n        \"semantic_type\": \"\",\n        \"description\": \"\"\n      }\n    },\n    {\n      \"column\": \"day\",\n      \"properties\": {\n        \"dtype\": \"number\",\n        \"std\": 0,\n        \"min\": 5,\n        \"max\": 5,\n        \"num_unique_values\": 1,\n        \"samples\": [\n          5\n        ],\n        \"semantic_type\": \"\",\n        \"description\": \"\"\n      }\n    },\n    {\n      \"column\": \"month\",\n      \"properties\": {\n        \"dtype\": \"category\",\n        \"num_unique_values\": 1,\n        \"samples\": [\n          \"may\"\n        ],\n        \"semantic_type\": \"\",\n        \"description\": \"\"\n      }\n    },\n    {\n      \"column\": \"duration\",\n      \"properties\": {\n        \"dtype\": \"number\",\n        \"std\": 76,\n        \"min\": 76,\n        \"max\": 261,\n        \"num_unique_values\": 5,\n        \"samples\": [\n          151\n        ],\n        \"semantic_type\": \"\",\n        \"description\": \"\"\n      }\n    },\n    {\n      \"column\": \"campaign\",\n      \"properties\": {\n        \"dtype\": \"number\",\n        \"std\": 0,\n        \"min\": 1,\n        \"max\": 1,\n        \"num_unique_values\": 1,\n        \"samples\": [\n          1\n        ],\n        \"semantic_type\": \"\",\n        \"description\": \"\"\n      }\n    },\n    {\n      \"column\": \"pdays\",\n      \"properties\": {\n        \"dtype\": \"number\",\n        \"std\": 0,\n        \"min\": -1,\n        \"max\": -1,\n        \"num_unique_values\": 1,\n        \"samples\": [\n          -1\n        ],\n        \"semantic_type\": \"\",\n        \"description\": \"\"\n      }\n    },\n    {\n      \"column\": \"previous\",\n      \"properties\": {\n        \"dtype\": \"number\",\n        \"std\": 0,\n        \"min\": 0,\n        \"max\": 0,\n        \"num_unique_values\": 1,\n        \"samples\": [\n          0\n        ],\n        \"semantic_type\": \"\",\n        \"description\": \"\"\n      }\n    },\n    {\n      \"column\": \"poutcome\",\n      \"properties\": {\n        \"dtype\": \"category\",\n        \"num_unique_values\": 1,\n        \"samples\": [\n          \"unknown\"\n        ],\n        \"semantic_type\": \"\",\n        \"description\": \"\"\n      }\n    },\n    {\n      \"column\": \"y\",\n      \"properties\": {\n        \"dtype\": \"category\",\n        \"num_unique_values\": 1,\n        \"samples\": [\n          \"no\"\n        ],\n        \"semantic_type\": \"\",\n        \"description\": \"\"\n      }\n    }\n  ]\n}",
              "type": "dataframe"
            },
            "text/html": [
              "\n",
              "  <div id=\"df-e8786741-09fd-43ed-be32-7727b5dad8ba\" class=\"colab-df-container\">\n",
              "    <div>\n",
              "<style scoped>\n",
              "    .dataframe tbody tr th:only-of-type {\n",
              "        vertical-align: middle;\n",
              "    }\n",
              "\n",
              "    .dataframe tbody tr th {\n",
              "        vertical-align: top;\n",
              "    }\n",
              "\n",
              "    .dataframe thead th {\n",
              "        text-align: right;\n",
              "    }\n",
              "</style>\n",
              "<table border=\"1\" class=\"dataframe\">\n",
              "  <thead>\n",
              "    <tr style=\"text-align: right;\">\n",
              "      <th></th>\n",
              "      <th>age</th>\n",
              "      <th>job</th>\n",
              "      <th>marital</th>\n",
              "      <th>education</th>\n",
              "      <th>default</th>\n",
              "      <th>balance</th>\n",
              "      <th>housing</th>\n",
              "      <th>loan</th>\n",
              "      <th>contact</th>\n",
              "      <th>day</th>\n",
              "      <th>month</th>\n",
              "      <th>duration</th>\n",
              "      <th>campaign</th>\n",
              "      <th>pdays</th>\n",
              "      <th>previous</th>\n",
              "      <th>poutcome</th>\n",
              "      <th>y</th>\n",
              "    </tr>\n",
              "  </thead>\n",
              "  <tbody>\n",
              "    <tr>\n",
              "      <th>0</th>\n",
              "      <td>58</td>\n",
              "      <td>management</td>\n",
              "      <td>married</td>\n",
              "      <td>tertiary</td>\n",
              "      <td>no</td>\n",
              "      <td>2143</td>\n",
              "      <td>yes</td>\n",
              "      <td>no</td>\n",
              "      <td>unknown</td>\n",
              "      <td>5</td>\n",
              "      <td>may</td>\n",
              "      <td>261</td>\n",
              "      <td>1</td>\n",
              "      <td>-1</td>\n",
              "      <td>0</td>\n",
              "      <td>unknown</td>\n",
              "      <td>no</td>\n",
              "    </tr>\n",
              "    <tr>\n",
              "      <th>1</th>\n",
              "      <td>44</td>\n",
              "      <td>technician</td>\n",
              "      <td>single</td>\n",
              "      <td>secondary</td>\n",
              "      <td>no</td>\n",
              "      <td>29</td>\n",
              "      <td>yes</td>\n",
              "      <td>no</td>\n",
              "      <td>unknown</td>\n",
              "      <td>5</td>\n",
              "      <td>may</td>\n",
              "      <td>151</td>\n",
              "      <td>1</td>\n",
              "      <td>-1</td>\n",
              "      <td>0</td>\n",
              "      <td>unknown</td>\n",
              "      <td>no</td>\n",
              "    </tr>\n",
              "    <tr>\n",
              "      <th>2</th>\n",
              "      <td>33</td>\n",
              "      <td>entrepreneur</td>\n",
              "      <td>married</td>\n",
              "      <td>secondary</td>\n",
              "      <td>no</td>\n",
              "      <td>2</td>\n",
              "      <td>yes</td>\n",
              "      <td>yes</td>\n",
              "      <td>unknown</td>\n",
              "      <td>5</td>\n",
              "      <td>may</td>\n",
              "      <td>76</td>\n",
              "      <td>1</td>\n",
              "      <td>-1</td>\n",
              "      <td>0</td>\n",
              "      <td>unknown</td>\n",
              "      <td>no</td>\n",
              "    </tr>\n",
              "    <tr>\n",
              "      <th>3</th>\n",
              "      <td>47</td>\n",
              "      <td>blue-collar</td>\n",
              "      <td>married</td>\n",
              "      <td>unknown</td>\n",
              "      <td>no</td>\n",
              "      <td>1506</td>\n",
              "      <td>yes</td>\n",
              "      <td>no</td>\n",
              "      <td>unknown</td>\n",
              "      <td>5</td>\n",
              "      <td>may</td>\n",
              "      <td>92</td>\n",
              "      <td>1</td>\n",
              "      <td>-1</td>\n",
              "      <td>0</td>\n",
              "      <td>unknown</td>\n",
              "      <td>no</td>\n",
              "    </tr>\n",
              "    <tr>\n",
              "      <th>4</th>\n",
              "      <td>33</td>\n",
              "      <td>unknown</td>\n",
              "      <td>single</td>\n",
              "      <td>unknown</td>\n",
              "      <td>no</td>\n",
              "      <td>1</td>\n",
              "      <td>no</td>\n",
              "      <td>no</td>\n",
              "      <td>unknown</td>\n",
              "      <td>5</td>\n",
              "      <td>may</td>\n",
              "      <td>198</td>\n",
              "      <td>1</td>\n",
              "      <td>-1</td>\n",
              "      <td>0</td>\n",
              "      <td>unknown</td>\n",
              "      <td>no</td>\n",
              "    </tr>\n",
              "  </tbody>\n",
              "</table>\n",
              "</div>\n",
              "    <div class=\"colab-df-buttons\">\n",
              "\n",
              "  <div class=\"colab-df-container\">\n",
              "    <button class=\"colab-df-convert\" onclick=\"convertToInteractive('df-e8786741-09fd-43ed-be32-7727b5dad8ba')\"\n",
              "            title=\"Convert this dataframe to an interactive table.\"\n",
              "            style=\"display:none;\">\n",
              "\n",
              "  <svg xmlns=\"http://www.w3.org/2000/svg\" height=\"24px\" viewBox=\"0 -960 960 960\">\n",
              "    <path d=\"M120-120v-720h720v720H120Zm60-500h600v-160H180v160Zm220 220h160v-160H400v160Zm0 220h160v-160H400v160ZM180-400h160v-160H180v160Zm440 0h160v-160H620v160ZM180-180h160v-160H180v160Zm440 0h160v-160H620v160Z\"/>\n",
              "  </svg>\n",
              "    </button>\n",
              "\n",
              "  <style>\n",
              "    .colab-df-container {\n",
              "      display:flex;\n",
              "      gap: 12px;\n",
              "    }\n",
              "\n",
              "    .colab-df-convert {\n",
              "      background-color: #E8F0FE;\n",
              "      border: none;\n",
              "      border-radius: 50%;\n",
              "      cursor: pointer;\n",
              "      display: none;\n",
              "      fill: #1967D2;\n",
              "      height: 32px;\n",
              "      padding: 0 0 0 0;\n",
              "      width: 32px;\n",
              "    }\n",
              "\n",
              "    .colab-df-convert:hover {\n",
              "      background-color: #E2EBFA;\n",
              "      box-shadow: 0px 1px 2px rgba(60, 64, 67, 0.3), 0px 1px 3px 1px rgba(60, 64, 67, 0.15);\n",
              "      fill: #174EA6;\n",
              "    }\n",
              "\n",
              "    .colab-df-buttons div {\n",
              "      margin-bottom: 4px;\n",
              "    }\n",
              "\n",
              "    [theme=dark] .colab-df-convert {\n",
              "      background-color: #3B4455;\n",
              "      fill: #D2E3FC;\n",
              "    }\n",
              "\n",
              "    [theme=dark] .colab-df-convert:hover {\n",
              "      background-color: #434B5C;\n",
              "      box-shadow: 0px 1px 3px 1px rgba(0, 0, 0, 0.15);\n",
              "      filter: drop-shadow(0px 1px 2px rgba(0, 0, 0, 0.3));\n",
              "      fill: #FFFFFF;\n",
              "    }\n",
              "  </style>\n",
              "\n",
              "    <script>\n",
              "      const buttonEl =\n",
              "        document.querySelector('#df-e8786741-09fd-43ed-be32-7727b5dad8ba button.colab-df-convert');\n",
              "      buttonEl.style.display =\n",
              "        google.colab.kernel.accessAllowed ? 'block' : 'none';\n",
              "\n",
              "      async function convertToInteractive(key) {\n",
              "        const element = document.querySelector('#df-e8786741-09fd-43ed-be32-7727b5dad8ba');\n",
              "        const dataTable =\n",
              "          await google.colab.kernel.invokeFunction('convertToInteractive',\n",
              "                                                    [key], {});\n",
              "        if (!dataTable) return;\n",
              "\n",
              "        const docLinkHtml = 'Like what you see? Visit the ' +\n",
              "          '<a target=\"_blank\" href=https://colab.research.google.com/notebooks/data_table.ipynb>data table notebook</a>'\n",
              "          + ' to learn more about interactive tables.';\n",
              "        element.innerHTML = '';\n",
              "        dataTable['output_type'] = 'display_data';\n",
              "        await google.colab.output.renderOutput(dataTable, element);\n",
              "        const docLink = document.createElement('div');\n",
              "        docLink.innerHTML = docLinkHtml;\n",
              "        element.appendChild(docLink);\n",
              "      }\n",
              "    </script>\n",
              "  </div>\n",
              "\n",
              "\n",
              "<div id=\"df-fd554942-9b80-457a-bb82-c30d6e92ac08\">\n",
              "  <button class=\"colab-df-quickchart\" onclick=\"quickchart('df-fd554942-9b80-457a-bb82-c30d6e92ac08')\"\n",
              "            title=\"Suggest charts\"\n",
              "            style=\"display:none;\">\n",
              "\n",
              "<svg xmlns=\"http://www.w3.org/2000/svg\" height=\"24px\"viewBox=\"0 0 24 24\"\n",
              "     width=\"24px\">\n",
              "    <g>\n",
              "        <path d=\"M19 3H5c-1.1 0-2 .9-2 2v14c0 1.1.9 2 2 2h14c1.1 0 2-.9 2-2V5c0-1.1-.9-2-2-2zM9 17H7v-7h2v7zm4 0h-2V7h2v10zm4 0h-2v-4h2v4z\"/>\n",
              "    </g>\n",
              "</svg>\n",
              "  </button>\n",
              "\n",
              "<style>\n",
              "  .colab-df-quickchart {\n",
              "      --bg-color: #E8F0FE;\n",
              "      --fill-color: #1967D2;\n",
              "      --hover-bg-color: #E2EBFA;\n",
              "      --hover-fill-color: #174EA6;\n",
              "      --disabled-fill-color: #AAA;\n",
              "      --disabled-bg-color: #DDD;\n",
              "  }\n",
              "\n",
              "  [theme=dark] .colab-df-quickchart {\n",
              "      --bg-color: #3B4455;\n",
              "      --fill-color: #D2E3FC;\n",
              "      --hover-bg-color: #434B5C;\n",
              "      --hover-fill-color: #FFFFFF;\n",
              "      --disabled-bg-color: #3B4455;\n",
              "      --disabled-fill-color: #666;\n",
              "  }\n",
              "\n",
              "  .colab-df-quickchart {\n",
              "    background-color: var(--bg-color);\n",
              "    border: none;\n",
              "    border-radius: 50%;\n",
              "    cursor: pointer;\n",
              "    display: none;\n",
              "    fill: var(--fill-color);\n",
              "    height: 32px;\n",
              "    padding: 0;\n",
              "    width: 32px;\n",
              "  }\n",
              "\n",
              "  .colab-df-quickchart:hover {\n",
              "    background-color: var(--hover-bg-color);\n",
              "    box-shadow: 0 1px 2px rgba(60, 64, 67, 0.3), 0 1px 3px 1px rgba(60, 64, 67, 0.15);\n",
              "    fill: var(--button-hover-fill-color);\n",
              "  }\n",
              "\n",
              "  .colab-df-quickchart-complete:disabled,\n",
              "  .colab-df-quickchart-complete:disabled:hover {\n",
              "    background-color: var(--disabled-bg-color);\n",
              "    fill: var(--disabled-fill-color);\n",
              "    box-shadow: none;\n",
              "  }\n",
              "\n",
              "  .colab-df-spinner {\n",
              "    border: 2px solid var(--fill-color);\n",
              "    border-color: transparent;\n",
              "    border-bottom-color: var(--fill-color);\n",
              "    animation:\n",
              "      spin 1s steps(1) infinite;\n",
              "  }\n",
              "\n",
              "  @keyframes spin {\n",
              "    0% {\n",
              "      border-color: transparent;\n",
              "      border-bottom-color: var(--fill-color);\n",
              "      border-left-color: var(--fill-color);\n",
              "    }\n",
              "    20% {\n",
              "      border-color: transparent;\n",
              "      border-left-color: var(--fill-color);\n",
              "      border-top-color: var(--fill-color);\n",
              "    }\n",
              "    30% {\n",
              "      border-color: transparent;\n",
              "      border-left-color: var(--fill-color);\n",
              "      border-top-color: var(--fill-color);\n",
              "      border-right-color: var(--fill-color);\n",
              "    }\n",
              "    40% {\n",
              "      border-color: transparent;\n",
              "      border-right-color: var(--fill-color);\n",
              "      border-top-color: var(--fill-color);\n",
              "    }\n",
              "    60% {\n",
              "      border-color: transparent;\n",
              "      border-right-color: var(--fill-color);\n",
              "    }\n",
              "    80% {\n",
              "      border-color: transparent;\n",
              "      border-right-color: var(--fill-color);\n",
              "      border-bottom-color: var(--fill-color);\n",
              "    }\n",
              "    90% {\n",
              "      border-color: transparent;\n",
              "      border-bottom-color: var(--fill-color);\n",
              "    }\n",
              "  }\n",
              "</style>\n",
              "\n",
              "  <script>\n",
              "    async function quickchart(key) {\n",
              "      const quickchartButtonEl =\n",
              "        document.querySelector('#' + key + ' button');\n",
              "      quickchartButtonEl.disabled = true;  // To prevent multiple clicks.\n",
              "      quickchartButtonEl.classList.add('colab-df-spinner');\n",
              "      try {\n",
              "        const charts = await google.colab.kernel.invokeFunction(\n",
              "            'suggestCharts', [key], {});\n",
              "      } catch (error) {\n",
              "        console.error('Error during call to suggestCharts:', error);\n",
              "      }\n",
              "      quickchartButtonEl.classList.remove('colab-df-spinner');\n",
              "      quickchartButtonEl.classList.add('colab-df-quickchart-complete');\n",
              "    }\n",
              "    (() => {\n",
              "      let quickchartButtonEl =\n",
              "        document.querySelector('#df-fd554942-9b80-457a-bb82-c30d6e92ac08 button');\n",
              "      quickchartButtonEl.style.display =\n",
              "        google.colab.kernel.accessAllowed ? 'block' : 'none';\n",
              "    })();\n",
              "  </script>\n",
              "</div>\n",
              "\n",
              "    </div>\n",
              "  </div>\n"
            ],
            "text/plain": [
              "   age           job  marital  education default  balance housing loan  \\\n",
              "0   58    management  married   tertiary      no     2143     yes   no   \n",
              "1   44    technician   single  secondary      no       29     yes   no   \n",
              "2   33  entrepreneur  married  secondary      no        2     yes  yes   \n",
              "3   47   blue-collar  married    unknown      no     1506     yes   no   \n",
              "4   33       unknown   single    unknown      no        1      no   no   \n",
              "\n",
              "   contact  day month  duration  campaign  pdays  previous poutcome   y  \n",
              "0  unknown    5   may       261         1     -1         0  unknown  no  \n",
              "1  unknown    5   may       151         1     -1         0  unknown  no  \n",
              "2  unknown    5   may        76         1     -1         0  unknown  no  \n",
              "3  unknown    5   may        92         1     -1         0  unknown  no  \n",
              "4  unknown    5   may       198         1     -1         0  unknown  no  "
            ]
          },
          "metadata": {},
          "output_type": "display_data"
        }
      ],
      "source": [
        "import pandas as pd\n",
        "\n",
        "bank = pd.read_csv('bank-full.csv', sep=';')\n",
        "display(bank.head())"
      ]
    },
    {
      "cell_type": "markdown",
      "metadata": {
        "id": "NApcpjwcZhmz"
      },
      "source": [
        "### One Hot Encoding"
      ]
    },
    {
      "cell_type": "code",
      "execution_count": null,
      "metadata": {
        "colab": {
          "base_uri": "https://localhost:8080/"
        },
        "id": "pe-zd8IAS3XY",
        "outputId": "e310c6b5-8666-47a4-8ebf-c8bcdafcfab1"
      },
      "outputs": [
        {
          "name": "stdout",
          "output_type": "stream",
          "text": [
            "   education_primary  education_secondary  education_tertiary  \\\n",
            "0                  0                    0                   1   \n",
            "1                  0                    1                   0   \n",
            "2                  0                    1                   0   \n",
            "3                  0                    0                   0   \n",
            "4                  0                    0                   0   \n",
            "\n",
            "   education_unknown  \n",
            "0                  0  \n",
            "1                  0  \n",
            "2                  0  \n",
            "3                  1  \n",
            "4                  1  \n"
          ]
        }
      ],
      "source": [
        "import pandas as pd\n",
        "\n",
        "bank = pd.read_csv('bank-full.csv', sep=';')\n",
        "ohe_education = pd.get_dummies(bank[['education']])\n",
        "\n",
        "print(ohe_education.head())"
      ]
    },
    {
      "cell_type": "code",
      "execution_count": null,
      "metadata": {
        "colab": {
          "base_uri": "https://localhost:8080/"
        },
        "id": "SSar-ahIXEO3",
        "outputId": "9139b480-500c-47a6-9f2d-0cd4e3af5bfd"
      },
      "outputs": [
        {
          "name": "stdout",
          "output_type": "stream",
          "text": [
            "   age           job  marital  education default  balance housing loan  \\\n",
            "0   58    management  married   tertiary      no     2143     yes   no   \n",
            "1   44    technician   single  secondary      no       29     yes   no   \n",
            "2   33  entrepreneur  married  secondary      no        2     yes  yes   \n",
            "3   47   blue-collar  married    unknown      no     1506     yes   no   \n",
            "4   33       unknown   single    unknown      no        1      no   no   \n",
            "\n",
            "   contact  day  ... duration  campaign  pdays  previous  poutcome   y  \\\n",
            "0  unknown    5  ...      261         1     -1         0   unknown  no   \n",
            "1  unknown    5  ...      151         1     -1         0   unknown  no   \n",
            "2  unknown    5  ...       76         1     -1         0   unknown  no   \n",
            "3  unknown    5  ...       92         1     -1         0   unknown  no   \n",
            "4  unknown    5  ...      198         1     -1         0   unknown  no   \n",
            "\n",
            "  education_primary  education_secondary  education_tertiary  \\\n",
            "0                 0                    0                   1   \n",
            "1                 0                    1                   0   \n",
            "2                 0                    1                   0   \n",
            "3                 0                    0                   0   \n",
            "4                 0                    0                   0   \n",
            "\n",
            "   education_unknown  \n",
            "0                  0  \n",
            "1                  0  \n",
            "2                  0  \n",
            "3                  1  \n",
            "4                  1  \n",
            "\n",
            "[5 rows x 21 columns]\n"
          ]
        }
      ],
      "source": [
        "bank = pd.concat([bank, ohe_education], axis=1)\n",
        "print(bank.head())"
      ]
    },
    {
      "cell_type": "markdown",
      "metadata": {
        "id": "w_dhWz_7ZbC_"
      },
      "source": [
        "### Dummifying"
      ]
    },
    {
      "cell_type": "code",
      "execution_count": null,
      "metadata": {
        "colab": {
          "base_uri": "https://localhost:8080/"
        },
        "id": "CtvPtD1yY8Wa",
        "outputId": "30c10430-e094-4959-abb1-4e69ee43e176"
      },
      "outputs": [
        {
          "name": "stdout",
          "output_type": "stream",
          "text": [
            "   color\n",
            "0    red\n",
            "1  green\n"
          ]
        }
      ],
      "source": [
        "import pandas as pd\n",
        "\n",
        "colors = pd.DataFrame({'color': ['red', 'green']})\n",
        "\n",
        "print(colors)"
      ]
    },
    {
      "cell_type": "code",
      "execution_count": null,
      "metadata": {
        "colab": {
          "base_uri": "https://localhost:8080/"
        },
        "id": "nAFsIHD3ZEM_",
        "outputId": "c6f7496a-146b-491b-c97b-ad8a0e3b1afd"
      },
      "outputs": [
        {
          "name": "stdout",
          "output_type": "stream",
          "text": [
            "   color_red\n",
            "0          1\n",
            "1          0\n"
          ]
        }
      ],
      "source": [
        "dummies = pd.get_dummies(colors, drop_first=True)\n",
        "\n",
        "print(dummies)"
      ]
    },
    {
      "cell_type": "code",
      "execution_count": null,
      "metadata": {
        "colab": {
          "base_uri": "https://localhost:8080/"
        },
        "id": "h205725jZKe3",
        "outputId": "6eff65a1-112e-4c73-a136-cb61d2d772c3"
      },
      "outputs": [
        {
          "name": "stdout",
          "output_type": "stream",
          "text": [
            "   color_green  color_red\n",
            "0            0          1\n",
            "1            1          0\n",
            "2            0          0\n"
          ]
        }
      ],
      "source": [
        "import pandas as pd\n",
        "\n",
        "colors = pd.DataFrame({'color': ['red', 'green', 'blue']})\n",
        "dummies = pd.get_dummies(colors, drop_first=True)\n",
        "#dummies['color'] = colors['color']\n",
        "\n",
        "print(dummies)"
      ]
    },
    {
      "cell_type": "markdown",
      "metadata": {
        "id": "yXuxZrBfaf_8"
      },
      "source": [
        "# K-means"
      ]
    },
    {
      "cell_type": "code",
      "execution_count": null,
      "metadata": {
        "colab": {
          "base_uri": "https://localhost:8080/",
          "height": 430
        },
        "id": "mRGdBmodaniD",
        "outputId": "7d070b4b-c89d-4f3c-aa29-8fada5c3319c"
      },
      "outputs": [
        {
          "data": {
            "image/png": "[encoded data removed]",
            "text/plain": [
              "<Figure size 640x480 with 1 Axes>"
            ]
          },
          "metadata": {},
          "output_type": "display_data"
        }
      ],
      "source": [
        "import matplotlib.pyplot as plt\n",
        "from sklearn.cluster import KMeans\n",
        "\n",
        "num_1 = [21, 22, 27, 21, 20, 28, 31, 23, 27, 29]\n",
        "num_2 = [38, 36, 41, 34, 33, 42, 41, 39, 38, 38]\n",
        "\n",
        "plt.scatter(num_1, num_2)\n",
        "plt.show()"
      ]
    },
    {
      "cell_type": "markdown",
      "metadata": {
        "id": "jSLuejpOa1vR"
      },
      "source": [
        "### Método do Cotovelo"
      ]
    },
    {
      "cell_type": "code",
      "execution_count": null,
      "metadata": {
        "colab": {
          "base_uri": "https://localhost:8080/",
          "height": 472
        },
        "id": "7r00RprJa4Ta",
        "outputId": "f8e9757a-bcd0-4adf-a77e-79677876f0f8"
      },
      "outputs": [
        {
          "data": {
            "image/png": "[encoded data removed]",
            "text/plain": [
              "<Figure size 640x480 with 1 Axes>"
            ]
          },
          "metadata": {},
          "output_type": "display_data"
        }
      ],
      "source": [
        "data = list(zip(num_1, num_2))\n",
        "inertias = []\n",
        "\n",
        "for i in range(1,11):\n",
        "    kmeans = KMeans(n_clusters=i, n_init=10)\n",
        "    kmeans.fit(data)\n",
        "    inertias.append(kmeans.inertia_)\n",
        "\n",
        "plt.plot(range(1,11), inertias, marker='o')\n",
        "plt.title('Método do Cotovelo')\n",
        "plt.xlabel('Número de clusters')\n",
        "plt.ylabel('Inércia')\n",
        "plt.show()"
      ]
    },
    {
      "cell_type": "code",
      "execution_count": null,
      "metadata": {
        "colab": {
          "base_uri": "https://localhost:8080/"
        },
        "id": "zxSqaMW18llj",
        "outputId": "ecea0a67-cb14-4c0c-9e6f-52ae972ffa3f"
      },
      "outputs": [
        {
          "name": "stdout",
          "output_type": "stream",
          "text": [
            "[(21, 38), (22, 36), (27, 41), (21, 34), (20, 33), (28, 42), (31, 41), (23, 39), (27, 38), (29, 38)]\n"
          ]
        }
      ],
      "source": [
        "print(data)"
      ]
    },
    {
      "cell_type": "markdown",
      "metadata": {
        "id": "EoWV-AbKhW2O"
      },
      "source": [
        "### K-means"
      ]
    },
    {
      "cell_type": "code",
      "execution_count": null,
      "metadata": {
        "colab": {
          "base_uri": "https://localhost:8080/",
          "height": 447
        },
        "id": "TCqQNTPkhYpD",
        "outputId": "a365c258-4d4e-44fe-c31d-cb2fea16a0c0"
      },
      "outputs": [
        {
          "data": {
            "image/png": "[encoded data removed]",
            "text/plain": [
              "<Figure size 640x480 with 1 Axes>"
            ]
          },
          "metadata": {},
          "output_type": "display_data"
        },
        {
          "name": "stdout",
          "output_type": "stream",
          "text": [
            "[1 1 0 1 1 0 0 1 0 0]\n"
          ]
        }
      ],
      "source": [
        "kmeans = KMeans(n_clusters=2, n_init=10)\n",
        "kmeans.fit(data)\n",
        "\n",
        "plt.scatter(num_1, num_2, c=kmeans.labels_)\n",
        "plt.show()\n",
        "print(kmeans.labels_)"
      ]
    },
    {
      "cell_type": "markdown",
      "metadata": {
        "id": "iHQ9HBndHBmZ"
      },
      "source": [
        "# Validação Cruzada"
      ]
    },
    {
      "cell_type": "code",
      "execution_count": null,
      "metadata": {
        "id": "8YZF93BqHD39"
      },
      "outputs": [],
      "source": [
        "from sklearn import datasets\n",
        "from sklearn.tree import DecisionTreeClassifier\n",
        "from sklearn.model_selection import KFold, cross_val_score, StratifiedKFold, LeaveOneOut, LeavePOut, ShuffleSplit\n",
        "\n",
        "X, y = datasets.load_iris(return_X_y=True)\n",
        "\n",
        "clf = DecisionTreeClassifier(random_state=42)"
      ]
    },
    {
      "cell_type": "markdown",
      "metadata": {
        "id": "EM3uKcMlHYfY"
      },
      "source": [
        "### k-fold"
      ]
    },
    {
      "cell_type": "code",
      "execution_count": null,
      "metadata": {
        "colab": {
          "base_uri": "https://localhost:8080/"
        },
        "id": "pjvGmEsQHfdx",
        "outputId": "81ebfe3a-529e-47b6-ca42-73091f244b9d"
      },
      "outputs": [
        {
          "name": "stdout",
          "output_type": "stream",
          "text": [
            "Pontuações de Validação Cruzada:  [1.         1.         0.83333333 0.93333333 0.8       ]\n",
            "Pontuação Média de Validação Cruzada:  0.9133333333333333\n",
            "Número de Pontuações de Validação Cruzada Usadas na Média:  5\n"
          ]
        }
      ],
      "source": [
        "k_folds = KFold(n_splits = 5)\n",
        "\n",
        "scores = cross_val_score(clf, X, y, cv = k_folds)\n",
        "\n",
        "print(\"Pontuações de Validação Cruzada: \", scores)\n",
        "print(\"Pontuação Média de Validação Cruzada: \", scores.mean())\n",
        "print(\"Número de Pontuações de Validação Cruzada Usadas na Média: \", len(scores))"
      ]
    },
    {
      "cell_type": "markdown",
      "metadata": {
        "id": "xJOivPUaHtuo"
      },
      "source": [
        "### Stratified K-Fold"
      ]
    },
    {
      "cell_type": "code",
      "execution_count": null,
      "metadata": {
        "colab": {
          "base_uri": "https://localhost:8080/"
        },
        "id": "g2_d6ksPHyaV",
        "outputId": "34704bdc-e032-4304-fd8b-8df75a5b6aeb"
      },
      "outputs": [
        {
          "name": "stdout",
          "output_type": "stream",
          "text": [
            "Pontuações de Validação Cruzada:  [0.96666667 0.96666667 0.9        0.93333333 1.        ]\n",
            "Pontuação Média de Validação Cruzada:  0.9533333333333334\n",
            "Número de Pontuações de Validação Cruzada Usadas na Média:  5\n"
          ]
        }
      ],
      "source": [
        "sk_folds = StratifiedKFold(n_splits = 5)\n",
        "\n",
        "scores = cross_val_score(clf, X, y, cv = sk_folds)\n",
        "\n",
        "print(\"Pontuações de Validação Cruzada: \", scores)\n",
        "print(\"Pontuação Média de Validação Cruzada: \", scores.mean())\n",
        "print(\"Número de Pontuações de Validação Cruzada Usadas na Média: \", len(scores))"
      ]
    },
    {
      "cell_type": "markdown",
      "metadata": {
        "id": "LbaydH4RH6wZ"
      },
      "source": [
        "### Leave-One-Out (LOO)"
      ]
    },
    {
      "cell_type": "code",
      "execution_count": null,
      "metadata": {
        "colab": {
          "base_uri": "https://localhost:8080/"
        },
        "id": "L8lWzSnBH-dP",
        "outputId": "f625718d-629c-4d95-8a3e-9726403c9268"
      },
      "outputs": [
        {
          "name": "stdout",
          "output_type": "stream",
          "text": [
            "Pontuações de Validação Cruzada:  [1. 1. 1. 1. 1. 1. 1. 1. 1. 1. 1. 1. 1. 1. 1. 1. 1. 1. 1. 1. 1. 1. 1. 1.\n",
            " 1. 1. 1. 1. 1. 1. 1. 1. 1. 1. 1. 1. 1. 1. 1. 1. 1. 1. 1. 1. 1. 1. 1. 1.\n",
            " 1. 1. 1. 1. 1. 1. 1. 1. 1. 0. 1. 1. 1. 1. 1. 1. 1. 1. 1. 1. 1. 1. 0. 1.\n",
            " 1. 1. 1. 1. 1. 0. 1. 1. 1. 1. 1. 0. 1. 1. 1. 1. 1. 1. 1. 1. 1. 1. 1. 1.\n",
            " 1. 1. 1. 1. 1. 1. 1. 1. 1. 1. 0. 1. 1. 1. 1. 1. 1. 1. 1. 1. 1. 1. 1. 0.\n",
            " 1. 1. 1. 1. 1. 1. 1. 1. 1. 0. 1. 1. 1. 0. 1. 1. 1. 1. 0. 1. 1. 1. 1. 1.\n",
            " 1. 1. 1. 1. 1. 1.]\n",
            "Pontuação Média de Validação Cruzada:  0.94\n",
            "Número de Pontuações de Validação Cruzada Usadas na Média:  150\n"
          ]
        }
      ],
      "source": [
        "loo = LeaveOneOut()\n",
        "\n",
        "scores = cross_val_score(clf, X, y, cv = loo)\n",
        "\n",
        "print(\"Pontuações de Validação Cruzada: \", scores)\n",
        "print(\"Pontuação Média de Validação Cruzada: \", scores.mean())\n",
        "print(\"Número de Pontuações de Validação Cruzada Usadas na Média: \", len(scores))"
      ]
    },
    {
      "cell_type": "markdown",
      "metadata": {
        "id": "dUt1XI2CICXK"
      },
      "source": [
        "### Leave-P-Out (LPO)"
      ]
    },
    {
      "cell_type": "code",
      "execution_count": null,
      "metadata": {
        "colab": {
          "base_uri": "https://localhost:8080/"
        },
        "id": "8XrVFW6QIOxP",
        "outputId": "47454db7-cf3c-4382-df36-0efb3f1a6a91"
      },
      "outputs": [
        {
          "name": "stdout",
          "output_type": "stream",
          "text": [
            "Pontuações de Validação Cruzada:  [1. 1. 1. ... 1. 1. 1.]\n",
            "Pontuação Média de Validação Cruzada:  0.9382997762863534\n",
            "Número de Pontuações de Validação Cruzada Usadas na Média:  11175\n"
          ]
        }
      ],
      "source": [
        "lpo = LeavePOut(p=2)\n",
        "\n",
        "scores = cross_val_score(clf, X, y, cv = lpo)\n",
        "\n",
        "print(\"Pontuações de Validação Cruzada: \", scores)\n",
        "print(\"Pontuação Média de Validação Cruzada: \", scores.mean())\n",
        "print(\"Número de Pontuações de Validação Cruzada Usadas na Média: \", len(scores))"
      ]
    },
    {
      "cell_type": "markdown",
      "metadata": {
        "id": "zizd6PDoIYnM"
      },
      "source": [
        "### Shuffle Split"
      ]
    },
    {
      "cell_type": "code",
      "execution_count": null,
      "metadata": {
        "colab": {
          "base_uri": "https://localhost:8080/"
        },
        "id": "LRy6LK2CIcHa",
        "outputId": "1f834e07-aeec-402a-9119-73d7ed484413"
      },
      "outputs": [
        {
          "name": "stdout",
          "output_type": "stream",
          "text": [
            "Pontuações de Validação Cruzada:  [0.93333333 0.97777778 1.         0.97777778 0.91111111]\n",
            "Pontuação Média de Validação Cruzada:  0.96\n",
            "Número de Pontuações de Validação Cruzada Usadas na Média:  5\n"
          ]
        }
      ],
      "source": [
        "ss = ShuffleSplit(train_size=0.6, test_size=0.3, n_splits = 5)\n",
        "\n",
        "scores = cross_val_score(clf, X, y, cv = ss)\n",
        "\n",
        "print(\"Pontuações de Validação Cruzada: \", scores)\n",
        "print(\"Pontuação Média de Validação Cruzada: \", scores.mean())\n",
        "print(\"Número de Pontuações de Validação Cruzada Usadas na Média: \", len(scores))"
      ]
    },
    {
      "cell_type": "markdown",
      "metadata": {
        "id": "zQK6NOk80IFZ"
      },
      "source": [
        "# Agregação Bootstrap"
      ]
    },
    {
      "cell_type": "markdown",
      "metadata": {
        "id": "dH_VZ1V81ZSV"
      },
      "source": [
        "### Avaliar um Classificador Base"
      ]
    },
    {
      "cell_type": "code",
      "execution_count": null,
      "metadata": {
        "id": "1Vlb5QetuRTy"
      },
      "outputs": [],
      "source": [
        "from sklearn import datasets\n",
        "from sklearn.model_selection import train_test_split\n",
        "from sklearn.metrics import accuracy_score\n",
        "from sklearn.tree import DecisionTreeClassifier\n",
        "\n",
        "data = datasets.load_wine(as_frame = True, return_X_y=True)\n",
        "\n",
        "X_train, X_test, y_train, y_test = train_test_split(X, y, test_size = 0.25, random_state = 22)\n",
        "\n",
        "dtree = DecisionTreeClassifier(random_state = 22)\n",
        "dtree.fit(X_train,y_train)\n",
        "\n",
        "y_pred = dtree.predict(X_test)\n",
        "\n",
        "print(\"Train data accuracy:\",accuracy_score(y_true = y_train, y_pred = dtree.predict(X_train)))\n",
        "print(\"Test data accuracy:\",accuracy_score(y_true = y_test, y_pred = y_pred))"
      ]
    },
    {
      "cell_type": "markdown",
      "metadata": {
        "id": "RhDHyU9TuxNW"
      },
      "source": [
        "### Avaliar um Classificador com o Bagging"
      ]
    },
    {
      "cell_type": "code",
      "execution_count": null,
      "metadata": {
        "id": "Ef7mcdvOvVHp"
      },
      "outputs": [],
      "source": [
        "import matplotlib.pyplot as plt\n",
        "from sklearn import datasets\n",
        "from sklearn.model_selection import train_test_split\n",
        "from sklearn.metrics import accuracy_score\n",
        "from sklearn.ensemble import BaggingClassifier\n",
        "\n",
        "data = datasets.load_wine(as_frame = True, return_X_y=True)\n",
        "\n",
        "X_train, X_test, y_train, y_test = train_test_split(X, y, test_size = 0.25, random_state = 22)\n",
        "\n",
        "estimator_range = [2,4,6,8,10,12,14,16]\n",
        "\n",
        "scores = []\n",
        "\n",
        "for n_estimators in estimator_range:\n",
        "\n",
        "    clf = BaggingClassifier(n_estimators = n_estimators, random_state = 22)\n",
        "\n",
        "    clf.fit(X_train, y_train)\n",
        "\n",
        "    scores.append(accuracy_score(y_true = y_test, y_pred = clf.predict(X_test)))\n",
        "\n",
        "plt.figure(figsize=(9,6))\n",
        "plt.plot(estimator_range, scores)\n",
        "\n",
        "plt.xlabel(\"n_estimators\", fontsize = 18)\n",
        "plt.ylabel(\"score\", fontsize = 18)\n",
        "plt.tick_params(labelsize = 16)\n",
        "\n",
        "plt.show()"
      ]
    },
    {
      "cell_type": "markdown",
      "metadata": {
        "id": "H3OrWXQ3vzt7"
      },
      "source": [
        "### Out of Bag"
      ]
    },
    {
      "cell_type": "code",
      "execution_count": null,
      "metadata": {
        "id": "V0vULrGzv1dS"
      },
      "outputs": [],
      "source": [
        "from sklearn import datasets\n",
        "from sklearn.model_selection import train_test_split\n",
        "from sklearn.ensemble import BaggingClassifier\n",
        "\n",
        "data = datasets.load_wine(as_frame = True, return_X_y=True)\n",
        "\n",
        "X_train, X_test, y_train, y_test = train_test_split(X, y, test_size = 0.25, random_state = 22)\n",
        "\n",
        "oob_model = BaggingClassifier(n_estimators = 12, oob_score = True,random_state = 22)\n",
        "\n",
        "oob_model.fit(X_train, y_train)\n",
        "\n",
        "print(oob_model.oob_score_)"
      ]
    },
    {
      "cell_type": "markdown",
      "metadata": {
        "id": "i4TXHBR5v4y_"
      },
      "source": [
        "### Árvore de Decisão"
      ]
    },
    {
      "cell_type": "code",
      "execution_count": null,
      "metadata": {
        "id": "7mPGmfGVv9qc"
      },
      "outputs": [],
      "source": [
        "from sklearn import datasets\n",
        "from sklearn.model_selection import train_test_split\n",
        "from sklearn.ensemble import BaggingClassifier\n",
        "from sklearn.tree import plot_tree\n",
        "\n",
        "data = datasets.load_wine(as_frame = True, return_X_y=True)\n",
        "\n",
        "X_train, X_test, y_train, y_test = train_test_split(X, y, test_size = 0.25, random_state = 22)\n",
        "\n",
        "clf = BaggingClassifier(n_estimators = 12, oob_score = True,random_state = 22)\n",
        "\n",
        "clf.fit(X_train, y_train)\n",
        "\n",
        "plt.figure(figsize=(30, 20))\n",
        "\n",
        "plot_tree(clf.estimators_[0], feature_names = X.columns)"
      ]
    },
    {
      "cell_type": "markdown",
      "metadata": {
        "id": "Omp28cdtZ6-r"
      },
      "source": [
        "# AUC - Curva ROC"
      ]
    },
    {
      "cell_type": "markdown",
      "metadata": {
        "id": "ZZb4JWN6aAgJ"
      },
      "source": [
        "### Dados Desequilibrados"
      ]
    },
    {
      "cell_type": "code",
      "execution_count": null,
      "metadata": {
        "colab": {
          "base_uri": "https://localhost:8080/",
          "height": 524
        },
        "id": "28yIifqpZ9yA",
        "outputId": "044aa912-f008-4334-a4cd-5d186d06f867"
      },
      "outputs": [
        {
          "name": "stdout",
          "output_type": "stream",
          "text": [
            "precisão das previsões: 0.95\n",
            "precisão para a classe 0: 0.0\n",
            "precisão para a classe 1: 1.0\n"
          ]
        },
        {
          "data": {
            "image/png": "[encoded data removed]",
            "text/plain": [
              "<Figure size 640x480 with 2 Axes>"
            ]
          },
          "metadata": {},
          "output_type": "display_data"
        }
      ],
      "source": [
        "import numpy as np\n",
        "import seaborn as sns\n",
        "import matplotlib.pyplot as plt\n",
        "from sklearn.metrics import accuracy_score, confusion_matrix, roc_auc_score, roc_curve\n",
        "\n",
        "n = 10000\n",
        "ratio = .95\n",
        "n_0 = int((1-ratio) * n)\n",
        "n_1 = int(ratio * n)\n",
        "\n",
        "y = np.array([0] * n_0 + [1] * n_1)\n",
        "y_proba = np.array([1]*n)\n",
        "y_pred = y_proba > .5\n",
        "\n",
        "mat = confusion_matrix(y, y_pred)\n",
        "\n",
        "print(f'precisão das previsões: {accuracy_score(y, y_pred)}')\n",
        "print(f'precisão para a classe 0: {mat[0][0]/n_0}')\n",
        "print(f'precisão para a classe 1: {mat[1][1]/n_1}')\n",
        "\n",
        "labels = ['Classe Negativa', 'Classe Positiva']\n",
        "\n",
        "sns.heatmap(mat, annot=True, cmap='Blues', fmt='g', xticklabels=labels, yticklabels=labels)\n",
        "\n",
        "plt.xlabel('Classe Predita')\n",
        "plt.ylabel('Classe Verdadeira')\n",
        "plt.title('Matriz de Confusão')\n",
        "\n",
        "plt.show()"
      ]
    },
    {
      "cell_type": "code",
      "execution_count": null,
      "metadata": {
        "colab": {
          "base_uri": "https://localhost:8080/",
          "height": 524
        },
        "id": "vapD97xzdYkg",
        "outputId": "07bc3537-f744-4a67-c8da-d76705364567"
      },
      "outputs": [
        {
          "name": "stdout",
          "output_type": "stream",
          "text": [
            "precisão das previsões: 0.7143\n",
            "precisão para a classe 0: 0.712\n",
            "precisão para a classe 1: 0.714421052631579\n"
          ]
        },
        {
          "data": {
            "image/png": "[encoded data removed]",
            "text/plain": [
              "<Figure size 640x480 with 2 Axes>"
            ]
          },
          "metadata": {},
          "output_type": "display_data"
        }
      ],
      "source": [
        "y_proba_2 = np.array(\n",
        "    np.random.uniform(0, .7, n_0).tolist() +\n",
        "    np.random.uniform(.3, 1, n_1).tolist()\n",
        ")\n",
        "y_pred_2 = y_proba_2 > .5\n",
        "cf_mat = confusion_matrix(y, y_pred_2)\n",
        "\n",
        "print(f'precisão das previsões: {accuracy_score(y, y_pred_2)}')\n",
        "print(f'precisão para a classe 0: {cf_mat[0][0]/n_0}')\n",
        "print(f'precisão para a classe 1: {cf_mat[1][1]/n_1}')\n",
        "\n",
        "labels = ['Classe Negativa', 'Classe Positiva']\n",
        "\n",
        "sns.heatmap(cf_mat, annot=True, cmap='Blues', fmt='g', xticklabels=labels, yticklabels=labels)\n",
        "\n",
        "plt.xlabel('Classe Predita')\n",
        "plt.ylabel('Classe Verdadeira')\n",
        "plt.title('Matriz de Confusão')\n",
        "\n",
        "plt.show()"
      ]
    },
    {
      "cell_type": "code",
      "execution_count": null,
      "metadata": {
        "id": "BRzu7P79duvn"
      },
      "outputs": [],
      "source": [
        "def plot_roc_curve(true_y, y_prob):\n",
        "    fpr, tpr, thresholds = roc_curve(true_y, y_prob)\n",
        "    plt.plot(fpr, tpr)\n",
        "    plt.xlabel('Taxa de Falsos Positivos')\n",
        "    plt.ylabel('Taxa de Verdadeiros Positivos')"
      ]
    },
    {
      "cell_type": "code",
      "execution_count": null,
      "metadata": {
        "colab": {
          "base_uri": "https://localhost:8080/",
          "height": 467
        },
        "id": "wK3o84tveNFh",
        "outputId": "2ce2bb73-66a8-42ea-d126-a3c77130d4d7"
      },
      "outputs": [
        {
          "name": "stdout",
          "output_type": "stream",
          "text": [
            "Pontuação AUC do modelo: 0.5\n"
          ]
        },
        {
          "data": {
            "image/png": "[encoded data removed]",
            "text/plain": [
              "<Figure size 640x480 with 1 Axes>"
            ]
          },
          "metadata": {},
          "output_type": "display_data"
        }
      ],
      "source": [
        "plot_roc_curve(y, y_proba)\n",
        "print(f'Pontuação AUC do modelo: {roc_auc_score(y, y_proba)}')"
      ]
    },
    {
      "cell_type": "code",
      "execution_count": null,
      "metadata": {
        "colab": {
          "base_uri": "https://localhost:8080/",
          "height": 467
        },
        "id": "IBjKxBxMer8l",
        "outputId": "1e38fe7c-d5ce-4a34-bac9-a8ffad0253d9"
      },
      "outputs": [
        {
          "name": "stdout",
          "output_type": "stream",
          "text": [
            "Pontuação AUC do modelo: 0.825017052631579\n"
          ]
        },
        {
          "data": {
            "image/png": "[encoded data removed]",
            "text/plain": [
              "<Figure size 640x480 with 1 Axes>"
            ]
          },
          "metadata": {},
          "output_type": "display_data"
        }
      ],
      "source": [
        "plot_roc_curve(y, y_proba_2)\n",
        "print(f'Pontuação AUC do modelo: {roc_auc_score(y, y_proba_2)}')"
      ]
    },
    {
      "cell_type": "markdown",
      "metadata": {
        "id": "LdQXW0Uyfj38"
      },
      "source": [
        "### Probabilidade"
      ]
    },
    {
      "cell_type": "code",
      "execution_count": null,
      "metadata": {
        "colab": {
          "base_uri": "https://localhost:8080/"
        },
        "id": "JJ2wY4OJfllA",
        "outputId": "b8ffb958-90be-4939-be99-f2f923a6bd46"
      },
      "outputs": [
        {
          "name": "stdout",
          "output_type": "stream",
          "text": [
            "precisão para o modelo 1: 0.7562\n",
            "precisão para o modelo 2: 0.7474\n",
            "Pontuação AUC do modelo 1: 0.77835353\n",
            "Pontuação AUC do modelo 2: 0.856441\n"
          ]
        }
      ],
      "source": [
        "import numpy as np\n",
        "\n",
        "n = 10000\n",
        "y = np.array([0] * n + [1] * n)\n",
        "\n",
        "y_prob_1 = np.array(\n",
        "    np.random.uniform(.25, .5, n//2).tolist() +\n",
        "    np.random.uniform(.3, .7, n).tolist() +\n",
        "    np.random.uniform(.5, .75, n//2).tolist()\n",
        ")\n",
        "y_prob_2 = np.array(\n",
        "    np.random.uniform(0, .4, n//2).tolist() +\n",
        "    np.random.uniform(.3, .7, n).tolist() +\n",
        "    np.random.uniform(.6, 1, n//2).tolist()\n",
        ")\n",
        "\n",
        "print(f'precisão para o modelo 1: {accuracy_score(y, y_prob_1>.5)}')\n",
        "print(f'precisão para o modelo 2: {accuracy_score(y, y_prob_2>.5)}')\n",
        "\n",
        "print(f'Pontuação AUC do modelo 1: {roc_auc_score(y, y_prob_1)}')\n",
        "print(f'Pontuação AUC do modelo 2: {roc_auc_score(y, y_prob_2)}')"
      ]
    },
    {
      "cell_type": "code",
      "execution_count": null,
      "metadata": {
        "colab": {
          "base_uri": "https://localhost:8080/",
          "height": 449
        },
        "id": "aZK2arEQgBHs",
        "outputId": "46b3cb7c-2358-4d68-90ed-69b19cb19c63"
      },
      "outputs": [
        {
          "data": {
            "image/png": "[encoded data removed]",
            "text/plain": [
              "<Figure size 640x480 with 1 Axes>"
            ]
          },
          "metadata": {},
          "output_type": "display_data"
        }
      ],
      "source": [
        "plot_roc_curve(y, y_prob_1)"
      ]
    },
    {
      "cell_type": "code",
      "execution_count": null,
      "metadata": {
        "colab": {
          "base_uri": "https://localhost:8080/",
          "height": 449
        },
        "id": "Qg2XrnmYXxwD",
        "outputId": "b45b6d5f-bff1-4e24-9783-5239987d6c76"
      },
      "outputs": [
        {
          "data": {
            "image/png": "[encoded data removed]",
            "text/plain": [
              "<Figure size 640x480 with 1 Axes>"
            ]
          },
          "metadata": {},
          "output_type": "display_data"
        }
      ],
      "source": [
        "plot_roc_curve(y, y_prob_2)"
      ]
    },
    {
      "cell_type": "markdown",
      "metadata": {
        "id": "t-7a2rX16Jyi"
      },
      "source": [
        "# KNN | K-Nearest Neighbors\n"
      ]
    },
    {
      "cell_type": "code",
      "execution_count": null,
      "metadata": {
        "colab": {
          "base_uri": "https://localhost:8080/",
          "height": 430
        },
        "id": "N9bcWUdY6M2a",
        "outputId": "958c84b2-5a9a-4860-da96-866995bfe3c4"
      },
      "outputs": [
        {
          "data": {
            "image/png": "[encoded data removed]",
            "text/plain": [
              "<Figure size 640x480 with 1 Axes>"
            ]
          },
          "metadata": {},
          "output_type": "display_data"
        }
      ],
      "source": [
        "import matplotlib.pyplot as plt\n",
        "\n",
        "num_1 = [21, 22, 27, 21, 20, 28, 31, 23, 27, 29]\n",
        "num_2 = [38, 36, 41, 34, 33, 42, 41, 39, 38, 38]\n",
        "classes = [0, 0, 1, 0, 0, 1, 1, 0, 1, 1]\n",
        "\n",
        "plt.scatter(num_1, num_2, c=classes)\n",
        "plt.show()"
      ]
    },
    {
      "cell_type": "code",
      "execution_count": null,
      "metadata": {
        "colab": {
          "base_uri": "https://localhost:8080/",
          "height": 92
        },
        "id": "k7JJ80bVRnJO",
        "outputId": "60d51e89-ca9a-48d8-e433-2c0e00c2405d"
      },
      "outputs": [
        {
          "name": "stdout",
          "output_type": "stream",
          "text": [
            "[(21, 38), (22, 36), (27, 41), (21, 34), (20, 33), (28, 42), (31, 41), (23, 39), (27, 38), (29, 38)]\n"
          ]
        },
        {
          "data": {
            "text/html": [
              "<style>#sk-container-id-1 {color: black;background-color: white;}#sk-container-id-1 pre{padding: 0;}#sk-container-id-1 div.sk-toggleable {background-color: white;}#sk-container-id-1 label.sk-toggleable__label {cursor: pointer;display: block;width: 100%;margin-bottom: 0;padding: 0.3em;box-sizing: border-box;text-align: center;}#sk-container-id-1 label.sk-toggleable__label-arrow:before {content: \"▸\";float: left;margin-right: 0.25em;color: #696969;}#sk-container-id-1 label.sk-toggleable__label-arrow:hover:before {color: black;}#sk-container-id-1 div.sk-estimator:hover label.sk-toggleable__label-arrow:before {color: black;}#sk-container-id-1 div.sk-toggleable__content {max-height: 0;max-width: 0;overflow: hidden;text-align: left;background-color: #f0f8ff;}#sk-container-id-1 div.sk-toggleable__content pre {margin: 0.2em;color: black;border-radius: 0.25em;background-color: #f0f8ff;}#sk-container-id-1 input.sk-toggleable__control:checked~div.sk-toggleable__content {max-height: 200px;max-width: 100%;overflow: auto;}#sk-container-id-1 input.sk-toggleable__control:checked~label.sk-toggleable__label-arrow:before {content: \"▾\";}#sk-container-id-1 div.sk-estimator input.sk-toggleable__control:checked~label.sk-toggleable__label {background-color: #d4ebff;}#sk-container-id-1 div.sk-label input.sk-toggleable__control:checked~label.sk-toggleable__label {background-color: #d4ebff;}#sk-container-id-1 input.sk-hidden--visually {border: 0;clip: rect(1px 1px 1px 1px);clip: rect(1px, 1px, 1px, 1px);height: 1px;margin: -1px;overflow: hidden;padding: 0;position: absolute;width: 1px;}#sk-container-id-1 div.sk-estimator {font-family: monospace;background-color: #f0f8ff;border: 1px dotted black;border-radius: 0.25em;box-sizing: border-box;margin-bottom: 0.5em;}#sk-container-id-1 div.sk-estimator:hover {background-color: #d4ebff;}#sk-container-id-1 div.sk-parallel-item::after {content: \"\";width: 100%;border-bottom: 1px solid gray;flex-grow: 1;}#sk-container-id-1 div.sk-label:hover label.sk-toggleable__label {background-color: #d4ebff;}#sk-container-id-1 div.sk-serial::before {content: \"\";position: absolute;border-left: 1px solid gray;box-sizing: border-box;top: 0;bottom: 0;left: 50%;z-index: 0;}#sk-container-id-1 div.sk-serial {display: flex;flex-direction: column;align-items: center;background-color: white;padding-right: 0.2em;padding-left: 0.2em;position: relative;}#sk-container-id-1 div.sk-item {position: relative;z-index: 1;}#sk-container-id-1 div.sk-parallel {display: flex;align-items: stretch;justify-content: center;background-color: white;position: relative;}#sk-container-id-1 div.sk-item::before, #sk-container-id-1 div.sk-parallel-item::before {content: \"\";position: absolute;border-left: 1px solid gray;box-sizing: border-box;top: 0;bottom: 0;left: 50%;z-index: -1;}#sk-container-id-1 div.sk-parallel-item {display: flex;flex-direction: column;z-index: 1;position: relative;background-color: white;}#sk-container-id-1 div.sk-parallel-item:first-child::after {align-self: flex-end;width: 50%;}#sk-container-id-1 div.sk-parallel-item:last-child::after {align-self: flex-start;width: 50%;}#sk-container-id-1 div.sk-parallel-item:only-child::after {width: 0;}#sk-container-id-1 div.sk-dashed-wrapped {border: 1px dashed gray;margin: 0 0.4em 0.5em 0.4em;box-sizing: border-box;padding-bottom: 0.4em;background-color: white;}#sk-container-id-1 div.sk-label label {font-family: monospace;font-weight: bold;display: inline-block;line-height: 1.2em;}#sk-container-id-1 div.sk-label-container {text-align: center;}#sk-container-id-1 div.sk-container {/* jupyter's `normalize.less` sets `[hidden] { display: none; }` but bootstrap.min.css set `[hidden] { display: none !important; }` so we also need the `!important` here to be able to override the default hidden behavior on the sphinx rendered scikit-learn.org. See: https://github.com/scikit-learn/scikit-learn/issues/21755 */display: inline-block !important;position: relative;}#sk-container-id-1 div.sk-text-repr-fallback {display: none;}</style><div id=\"sk-container-id-1\" class=\"sk-top-container\"><div class=\"sk-text-repr-fallback\"><pre>KNeighborsClassifier(n_neighbors=1)</pre><b>In a Jupyter environment, please rerun this cell to show the HTML representation or trust the notebook. <br />On GitHub, the HTML representation is unable to render, please try loading this page with nbviewer.org.</b></div><div class=\"sk-container\" hidden><div class=\"sk-item\"><div class=\"sk-estimator sk-toggleable\"><input class=\"sk-toggleable__control sk-hidden--visually\" id=\"sk-estimator-id-1\" type=\"checkbox\" checked><label for=\"sk-estimator-id-1\" class=\"sk-toggleable__label sk-toggleable__label-arrow\">KNeighborsClassifier</label><div class=\"sk-toggleable__content\"><pre>KNeighborsClassifier(n_neighbors=1)</pre></div></div></div></div></div>"
            ],
            "text/plain": [
              "KNeighborsClassifier(n_neighbors=1)"
            ]
          },
          "execution_count": 2,
          "metadata": {},
          "output_type": "execute_result"
        }
      ],
      "source": [
        "from sklearn.neighbors import KNeighborsClassifier\n",
        "\n",
        "data = list(zip(num_1, num_2))\n",
        "print(data)\n",
        "knn = KNeighborsClassifier(n_neighbors=1)\n",
        "\n",
        "knn.fit(data, classes)"
      ]
    },
    {
      "cell_type": "code",
      "execution_count": null,
      "metadata": {
        "colab": {
          "base_uri": "https://localhost:8080/",
          "height": 430
        },
        "id": "n6_XWiRQRvgU",
        "outputId": "2c75005d-70c5-4162-dbc0-9e6a8ddc7a0b"
      },
      "outputs": [
        {
          "data": {
            "image/png": "[encoded data removed]",
            "text/plain": [
              "<Figure size 640x480 with 1 Axes>"
            ]
          },
          "metadata": {},
          "output_type": "display_data"
        }
      ],
      "source": [
        "new_x = 25\n",
        "new_y = 38\n",
        "new_point = [(new_x, new_y)]\n",
        "\n",
        "prediction = knn.predict(new_point)\n",
        "\n",
        "plt.scatter(num_1 + [new_x], num_2 + [new_y], c=classes + [prediction[0]])\n",
        "plt.text(x=new_x-1.7, y=new_y-0.7, s=f\"new point, class: {prediction[0]}\")\n",
        "plt.show()"
      ]
    },
    {
      "cell_type": "code",
      "execution_count": null,
      "metadata": {
        "colab": {
          "base_uri": "https://localhost:8080/",
          "height": 430
        },
        "id": "iG5_fthNSGcp",
        "outputId": "9d8d77b4-f8e4-4afc-8fb1-042bd170dc61"
      },
      "outputs": [
        {
          "data": {
            "image/png": "[encoded data removed]",
            "text/plain": [
              "<Figure size 640x480 with 1 Axes>"
            ]
          },
          "metadata": {},
          "output_type": "display_data"
        }
      ],
      "source": [
        "knn = KNeighborsClassifier(n_neighbors=3)\n",
        "\n",
        "knn.fit(data, classes)\n",
        "\n",
        "prediction = knn.predict(new_point)\n",
        "\n",
        "plt.scatter(num_1 + [new_x], num_2 + [new_y], c=classes + [prediction[0]])\n",
        "plt.text(x=new_x-1.7, y=new_y-0.7, s=f\"new point, class: {prediction[0]}\")\n",
        "plt.show()"
      ]
    }
  ],
  "metadata": {
    "colab": {
      "collapsed_sections": [
        "FYwygrQ9AVeI",
        "YmNOk4Ex1oB2",
        "MzV_hNAo1rGy",
        "fjxWdHAV1sgt",
        "ou8seIys8VSa",
        "T9uKh61PIhME",
        "LJzvj0ZWIkOg",
        "ksn54HXcIrJd",
        "nvFK-WVKUXT7",
        "CZzRSnfYoI-E",
        "STvx2YrKPFw7",
        "HZqc7CIIXXAJ",
        "YxaETQKb3ONm",
        "Ln2PVm72v5oP",
        "DpOq658dz1vE",
        "DYw4X57g7F2g",
        "WWA0tegr-ATZ",
        "ydcq4bW6Cw_K",
        "yXuxZrBfaf_8",
        "iHQ9HBndHBmZ",
        "zQK6NOk80IFZ",
        "Omp28cdtZ6-r",
        "LdQXW0Uyfj38"
      ],
      "provenance": []
    },
    "kernelspec": {
      "display_name": "Python 3",
      "name": "python3"
    },
    "language_info": {
      "name": "python"
    }
  },
  "nbformat": 4,
  "nbformat_minor": 0
}
