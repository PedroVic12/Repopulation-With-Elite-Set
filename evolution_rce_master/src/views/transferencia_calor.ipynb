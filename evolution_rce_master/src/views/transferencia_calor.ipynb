{
 "cells": [
  {
   "cell_type": "code",
   "execution_count": 2,
   "metadata": {},
   "outputs": [
    {
     "name": "stdout",
     "output_type": "stream",
     "text": [
      "Defaulting to user installation because normal site-packages is not writeable\n",
      "Requirement already satisfied: fenics in /home/pedrov/.local/lib/python3.12/site-packages (2019.1.0)\n",
      "Requirement already satisfied: fenics-ffc<2019.2,>=2019.1.0 in /home/pedrov/.local/lib/python3.12/site-packages (from fenics) (2019.1.0.post0)\n",
      "Requirement already satisfied: fenics-fiat<2019.2,>=2019.1.0 in /home/pedrov/.local/lib/python3.12/site-packages (from fenics) (2019.1.0)\n",
      "Requirement already satisfied: fenics-ufl<2019.2,>=2019.1.0 in /home/pedrov/.local/lib/python3.12/site-packages (from fenics) (2019.1.0)\n",
      "Requirement already satisfied: fenics-dijitso<2019.2,>=2019.1.0 in /home/pedrov/.local/lib/python3.12/site-packages (from fenics) (2019.1.0)\n",
      "Requirement already satisfied: numpy in /usr/lib/python3.12/site-packages (from fenics-dijitso<2019.2,>=2019.1.0->fenics) (1.26.4)\n",
      "Requirement already satisfied: sympy in /home/pedrov/.local/lib/python3.12/site-packages (from fenics-fiat<2019.2,>=2019.1.0->fenics) (1.12.1)\n",
      "Requirement already satisfied: mpmath<1.4.0,>=1.1.0 in /home/pedrov/.local/lib/python3.12/site-packages (from sympy->fenics-fiat<2019.2,>=2019.1.0->fenics) (1.3.0)\n"
     ]
    }
   ],
   "source": [
    "!pip install fenics --break-system-packages\n"
   ]
  },
  {
   "cell_type": "code",
   "execution_count": 4,
   "metadata": {},
   "outputs": [
    {
     "ename": "ModuleNotFoundError",
     "evalue": "No module named 'fenics'",
     "output_type": "error",
     "traceback": [
      "\u001b[0;31m---------------------------------------------------------------------------\u001b[0m",
      "\u001b[0;31mModuleNotFoundError\u001b[0m                       Traceback (most recent call last)",
      "Cell \u001b[0;32mIn[4], line 1\u001b[0m\n\u001b[0;32m----> 1\u001b[0m \u001b[38;5;28;01mfrom\u001b[39;00m \u001b[38;5;21;01mfenics\u001b[39;00m \u001b[38;5;28;01mimport\u001b[39;00m \u001b[38;5;241m*\u001b[39m\n\u001b[1;32m      3\u001b[0m \u001b[38;5;66;03m# Define a mesh and function space\u001b[39;00m\n\u001b[1;32m      4\u001b[0m mesh \u001b[38;5;241m=\u001b[39m UnitSquareMesh(\u001b[38;5;241m32\u001b[39m, \u001b[38;5;241m32\u001b[39m)\n",
      "\u001b[0;31mModuleNotFoundError\u001b[0m: No module named 'fenics'"
     ]
    }
   ],
   "source": [
    "from fenics import *\n",
    "\n",
    "# Define a mesh and function space\n",
    "mesh = UnitSquareMesh(32, 32)\n",
    "V = FunctionSpace(mesh, \"P\", 1)\n",
    "\n",
    "# Define boundary conditions\n",
    "u_D = Expression(\"1 + x[0]*x[0] + 2*x[1]*x[1]\", degree=2)\n",
    "\n",
    "\n",
    "def boundary(x, on_boundary):\n",
    "    return on_boundary\n",
    "\n",
    "\n",
    "bc = DirichletBC(V, u_D, boundary)\n",
    "\n",
    "# Define variational problem\n",
    "u = TrialFunction(V)\n",
    "v = TestFunction(V)\n",
    "f = Constant(-6.0)\n",
    "a = dot(grad(u), grad(v)) * dx\n",
    "L = f * v * dx\n",
    "\n",
    "# Compute solution\n",
    "u = Function(V)\n",
    "solve(a == L, u, bc)\n",
    "\n",
    "# Plot solution\n",
    "import matplotlib.pyplot as plt\n",
    "\n",
    "plot(u)\n",
    "plt.show()"
   ]
  }
 ],
 "metadata": {
  "kernelspec": {
   "display_name": "Python 3",
   "language": "python",
   "name": "python3"
  },
  "language_info": {
   "codemirror_mode": {
    "name": "ipython",
    "version": 3
   },
   "file_extension": ".py",
   "mimetype": "text/x-python",
   "name": "python",
   "nbconvert_exporter": "python",
   "pygments_lexer": "ipython3",
   "version": "3.12.3"
  }
 },
 "nbformat": 4,
 "nbformat_minor": 2
}
